{
 "cells": [
  {
   "cell_type": "markdown",
   "metadata": {},
   "source": [
    " <img align=\"right\" src=\"files/img/PhUniMa_Logo_sw.pdf\">\n",
    "\n",
    "*Phillips-Universität Marburg* <br>\n",
    "*Fachbereich Physik*<br>\n",
    "*Priv.-Doz. Dr. S.R. Manmana, WiSe 2020/21*\n",
    "\n",
    "<h1><center>Übungen zur Vorlesung Computational Physics I<br><br>Blatt 2</center></h1>\n",
    "\n",
    "---"
   ]
  },
  {
   "cell_type": "markdown",
   "metadata": {},
   "source": [
    "# Lernziele dieses Übungsblattes\n",
    "\n",
    "\n",
    "* Genauigkeit von Gleitkommazahlen\n",
    "* Numerische Ableitungen und ihre Genauigkeit\n",
    "* Programmierkonzepte: Code-Wiederverwendbarkeit, für C: Linker, Makefiles\n",
    "* Definition neuer Datenobjekte mithilfe von struct (in C) und class (Python und C++)"
   ]
  },
  {
   "cell_type": "markdown",
   "metadata": {},
   "source": [
    "# Aufgabenmodus\n",
    "\n",
    "Die Aufgabe 5) verfügt über ein Tutorial, das Sie am Ende des Dokumentes finden. Abhängig von Ihren Vorkenntnissen können Sie die Aufgabe entweder eigenständig bearbeiten, oder dem dazugehörigen Tutorial folgen. Ziel der Tutorials ist es, Sie durch die grundlegenden Lernkonzepte zu führen und Ihre C-Kenntnisse aufzufrischen. Nach Abschluss eines Tutorials haben Sie ein funktionierendes Programm vorliegen und die entsprechende (Teil-)Aufgabe hinreichend bearbeitet.\n",
    "\n",
    "Die Tutorials fallen zunächst sehr feinschrittig aus, werden aber im Laufe des Semesters zunehmend aufeinander aufbauen. Bereits erläuterte Konzepte müssen Sie dann ggfs. in früheren Übungennachlesen.\n",
    "Die Tutorials sind lediglich als Lösungs-Vorschlag zu verstehen. Wir ermutigen Sie, auch Ihre eigenen Implementierungen auszuprobieren.\n",
    "\n",
    "Manche Teilaufgaben sind als **Bonus**-Aufgaben gekennzeichnet und haben einen fortgeschrittenen Schwierigkeitsgrad. Sie dienen der Vertiefung Ihres Verständnisses der Algorithmen. Wir empfehlen Ihnen, zunächst die normalen Aufgaben zu bearbeiten."
   ]
  },
  {
   "cell_type": "markdown",
   "metadata": {},
   "source": [
    "# Übungsaufgaben"
   ]
  },
  {
   "cell_type": "markdown",
   "metadata": {},
   "source": [
    "## Aufgabe 4: *Gleitkommagenauigkeit*\n",
    "\n",
    "\n",
    "In dieser Aufgabe wird demonstriert, wie analytisch äquivalente Formeln bzw. Ausdrücke bei numerischer Behandlung aufgrund der zugrundeliegenden beschränkten Genauigkeit zu verschiedenen Ergebnissen führen können.\n",
    "\n",
    "Das quadratische Polynom $ax2 + bx + c = 0$ hat bekannterweise die beiden Lösungen\n",
    "\n",
    "$$x_{1,2} = \\frac{-b \\pm \\sqrt{b^2 - 4ac}}{2a}$$\n",
    "\n",
    "1. Schreiben Sie ein C-Programm, das eine Quadratische Gleichung mit Hilfe dieser Darstellung löst.\n",
    "\n",
    "2. Lösen Sie mit Ihrem Programm die Gleichung\n",
    "\n",
    "$$x^2 − \\frac{10^{16} + 1}{10^8}x + 1 = 0.$$\n",
    "\n",
    "Die analytischen Lösungen sind $x_1 = 10^8$ und $10^{−8}$ (bestätigen Sie dies durch eigene Rechnung). Berechnen Sie den *relativen Fehler*, den Ihre numerischen Lösungen gegenüber der analytischen Lösung aufweisen. Zeigen Sie damit, dass eine der beiden Lösungen unbrauchbar ist.\n",
    "__Hinweis__: Benutzen Sie im `printf` Befehl für die Ausgabe von `double`-Werten den Platzhalter `%g`.\n",
    "\n",
    "3. Erweitert man den Bruch der obigen Gleichung mit $−b \\mp \\sqrt{b^2 - 4ac}$, so lassen sich die beiden Lösungen des Polynoms äquivalent als\n",
    "\n",
    "$$x = \\frac{2c}{-b \\mp \\sqrt{b^2 - 4ac}}$$\n",
    "\n",
    "darstellen. (Beachten Sie den Wechsel der Vorzeichen $\\pm$ zu $\\mp$!) Erweitern Sie Ihr Programm und bestimmen Sie die Lösung der Gleichung auch mit dieser neuen Darstellung. Zeigen Sie, dass nun die andere Lösung starke Abweichungen aufweist.\n",
    "\n",
    "4. Erklären Sie diese Beobachtungen indem Sie sich überlegen, welche Terme besonders groß oder besonders klein werden und bei welcher Gleitkomma-Operation das zu Schwierigkeiten führt.\n",
    "\n",
    "5. Schreiben Sie eine Funktion `solveQuadratic`, die die beiden Ansätze so kombiniert, dass beide Nullstellen mit bestmöglicher Genauigkeit berechnet werden. Da die Funktion zwei verschiedene Werte zurückgeben soll, empfiehlt es sich, einen neuen Datentyp zu definieren, der zwei Zahlen enthält. (Alternativ könnten Sie diese z.B. in eine Liste, Vektor o.ä. eintragen, und dann dieses zurückgeben).\n",
    "\n",
    "Erstellen Sie eine Klasse in Python:"
   ]
  },
  {
   "cell_type": "code",
   "execution_count": null,
   "metadata": {},
   "outputs": [],
   "source": [
    "class Tuple:\n",
    "    def __init__(self, x, y):\n",
    "        self.x1 = x\n",
    "        self.x2 = y"
   ]
  },
  {
   "cell_type": "markdown",
   "metadata": {},
   "source": [
    "Klassen sind wichtige Elemente beim sogenannten objektorientierten Programmieren, auf das wir hier nicht weiter eingehen wollen. Wichtig für uns ist an dieser Stelle, dass man das Objekt Tuple durch zwei Zahlen initialisieren kann, und dass man diese zwei Zahlen auch wieder herauslesen kann. (Zur obigen Syntax: über `__init__(self,...)` wird ein ’Konstruktor’ definiert, der festlegt, wie das Objekt initialisiert wird. Die Einträge kann man dann hier mithilfe von `.x1` und `.x2` auslesen.) Erstellen Sie dann die Funktion in folgender Form:"
   ]
  },
  {
   "cell_type": "code",
   "execution_count": null,
   "metadata": {},
   "outputs": [],
   "source": [
    "def solveQuadratic(a, b, c):\n",
    "    x1 = ...\n",
    "    x2 = ...\n",
    "    solution = Tuple(x1,x2)\n",
    "    return solution;"
   ]
  },
  {
   "cell_type": "markdown",
   "metadata": {},
   "source": [
    "__Hinweis__: Sie benötigen eine Fallunterscheidung bzgl. des Vorzeichens von $b$. Überprüfen Sie Ihren Algorithmus an der Gleichung\n",
    "\n",
    "$$-x^2 + \\frac{10^{16} + 1}{10^8}x - 1 = 0$$\n",
    "\n",
    "welche die selben analytischen Lösungen aufweist."
   ]
  },
  {
   "cell_type": "markdown",
   "metadata": {},
   "source": [
    "### Aufgabenlösung 4"
   ]
  },
  {
   "cell_type": "code",
   "execution_count": null,
   "metadata": {},
   "outputs": [],
   "source": []
  },
  {
   "cell_type": "code",
   "execution_count": null,
   "metadata": {},
   "outputs": [],
   "source": []
  },
  {
   "cell_type": "code",
   "execution_count": null,
   "metadata": {},
   "outputs": [],
   "source": []
  },
  {
   "cell_type": "markdown",
   "metadata": {},
   "source": [
    "## Aufgabe 5: *Wiederverwendung von Code*\n",
    "\n",
    "*Hinweis*: Diese Aufgabe hat ein Tutorial.\n",
    "\n",
    "Sie haben nun bereits einige numerische Algorithmen implementiert:\n",
    "\n",
    "* integrate()\n",
    "* myErf()\n",
    "* solveQuadratic()\n",
    "\n",
    "Im Laufe des Semesters werden noch viele weitere Funktionen hinzukommen. Ziel dieser Aufgabe ist es, eine eigene Numerik-Bibliothek `myNumerics` anzulegen und Ihre Algorithmen dort zur Wiederverwendung einzupflegen.\n",
    "\n",
    "In Python können Sie eine Datei `myNumerics.py` anlegen, in die Sie die Algorithmen und die entsprechenden Funktionen (und alles was benötigt wird) einpflegen. In zukünftigen Programmen können Sie diese ’Bibliothek’ einbinden z.B. via\n",
    "```python\n",
    "import myNumerics as mn\n",
    "```\n",
    "Die Funktionen können Sie dann z.B. wie `mn.integrate(left,right,N,integrand)`\n",
    "aufrufen, nachdem Sie die benötigten Variablen bzw. Funktionen definiert haben."
   ]
  },
  {
   "cell_type": "markdown",
   "metadata": {},
   "source": [
    "### Tutorial - Aufgabe 5"
   ]
  },
  {
   "cell_type": "markdown",
   "metadata": {},
   "source": [
    "Kopieren Sie die Funktionen Ihrer Bearbeitung von Blatt 1-Aufgabe3 (Ihr Fehlerfunktions-Projekt) in ein neues Text-Datei mit der Endung `.py` (empfohlen ist `myNumerics.py`). Diese Datei muss sich im gleichen Ordner wie dieses Notebook befinden. Sie sollten dort folgende Funktionen kopiert haben:\n",
    "```python\n",
    "def gaussian(y):\n",
    "    return exp(-y*y)\n",
    "\n",
    "def integrate(left, right, N, integrand):\n",
    "    pass\n",
    "        \n",
    "def myErf(x, delta_x):\n",
    "    pass\n",
    "```\n",
    "Dabei ist gaussian der verwendete Integrand für die Fehlerfunktion, dem Sie evtl. aber einen anderen Namen gegeben haben."
   ]
  },
  {
   "cell_type": "markdown",
   "metadata": {},
   "source": [
    "*Hinweis*: Wenn Sie besonders gründlich sein wollen, dann benennen Sie sämtliche Funktionen Ihrer Bibliothek mit einem Präfix, der ihre Bibliothek kennzeichnet, wie z.B. mn_integrate und mn_erf. Das wird für diesen Kurs nicht notwendig sein, Sie werden aber sehen, dass z.B. sämtliche Funktionen der GNU Scientific Library den Präfix `gsl_` tragen.\n",
    "\n",
    "Falls eine Ihrer Funktionen ein Modul (z.B. numpy) benötigt, importieren Sie diesen oben in `myNumerics.py`.\n",
    "\n",
    "Diese Funktionen können Sie nun auf diesem Notebook nutzen. Nach dem `import`-Befehl können Sie eine Abkürzung für Ihr Modul definieren anhand des `as`-Keywords."
   ]
  },
  {
   "cell_type": "code",
   "execution_count": null,
   "metadata": {},
   "outputs": [],
   "source": [
    "import myNumerics as mn\n",
    "\n",
    "print(mn.gaussian(2))"
   ]
  },
  {
   "cell_type": "markdown",
   "metadata": {},
   "source": [
    "Dies funktioniert nur, wenn sich die Library-Datei im gleichen Ordner wie das Notebook befindet. Wenn Sie nicht alle Notizbücher im gleichen Ordner speichern, macht dies keinen Sinn, da wir eine Datei mit gemeinsamen Funktionen für alle folgenden Notebooks erstellen wollen und vermeiden wollen, diese Datei jedes Mal zu kopieren, wenn wir ein neues Notizbuch erstellen. Es gibt 2 Wege, um dies zu erreichen: Verweisen Sie auf den Pfad zur Datei oder fügen Sie die Datei zum Ordner der Python-Libraries hinzu. Eine detaillierte Anleitung finden Sie [hier](https://www.digitalocean.com/community/tutorials/how-to-write-modules-in-python-3)."
   ]
  },
  {
   "cell_type": "markdown",
   "metadata": {},
   "source": [
    "Es steht Ihnen frei, welche Methode Sie wählen. Um es einfach zu halten, wird die Methode zur Verweisung auf den Pfad angezeigt. Denken Sie daran, dass diese für Ihre persönliche Ordnerstruktur angepasst werden soll."
   ]
  },
  {
   "cell_type": "markdown",
   "metadata": {},
   "source": [
    "Für eine Ordnerstruktur wie die folgende\n",
    "```\n",
    "beliebige_path > CP1 > myNumerics.py\n",
    "                       Uebung1_folder > Uebung1.ipynb\n",
    "                       Uebung2_folder > Uebung2.ipynb\n",
    "                       Uebung3_folder > Uebung3.ipynb\n",
    "                       ...\n",
    "```\n",
    "können Sie das folgende Header verwenden."
   ]
  },
  {
   "cell_type": "code",
   "execution_count": null,
   "metadata": {},
   "outputs": [],
   "source": [
    "import sys\n",
    "sys.path.append('./../') # Dies ist der Referenz auf den Pfad, in dem sich Ihre Datei befindet\n",
    "                         # Der Pfad './' ist der aktuelle Ordner, dies wird als relativer Pfad bezeichnet.\n",
    "                         # Der Pfad './../' verweist auf den Überordner des aktuellen Ordners.\n",
    "\n",
    "import myNumerics as mn"
   ]
  },
  {
   "cell_type": "code",
   "execution_count": null,
   "metadata": {},
   "outputs": [],
   "source": [
    "print(mn.gaussian(2)) # Test if it was correctly imported"
   ]
  },
  {
   "cell_type": "markdown",
   "metadata": {},
   "source": [
    "### Aufgabenlösung 5"
   ]
  },
  {
   "cell_type": "code",
   "execution_count": null,
   "metadata": {},
   "outputs": [],
   "source": []
  },
  {
   "cell_type": "code",
   "execution_count": null,
   "metadata": {},
   "outputs": [],
   "source": []
  },
  {
   "cell_type": "code",
   "execution_count": null,
   "metadata": {},
   "outputs": [],
   "source": []
  },
  {
   "cell_type": "markdown",
   "metadata": {},
   "source": [
    "## Aufgabe 6: *Numerische Ableitungen*\n",
    "\n",
    "Um die Ableitung $f′(x)$ einer Funktion numerisch zu bestimmen, bedient man sich des Differenzenquotienten\n",
    "\n",
    "$$f'(x) = \\frac{f(x+\\delta) - f(x)}{\\delta}$$\n",
    "\n",
    "Während in der Analysis hier ein Grenzübergang $\\delta \\rightarrow 0$ angesetzt wird, belässt es die Numerik bei endlichen Differenzen, $\\delta > 0$. Die richtige Wahl der Schrittweite $\\delta$ ist hierbei entscheidend für die Genauigkeit der berechneten Ableitung.\n",
    "\n",
    "Ziel dieser Aufgabe ist es, Sie mit der Problematik der Schrittweitenwahl vertraut zu machen.\n",
    "\n",
    "1. Schreiben Sie die Funktion"
   ]
  },
  {
   "cell_type": "code",
   "execution_count": null,
   "metadata": {},
   "outputs": [],
   "source": [
    "def diff(x, delta, func):\n",
    "    pass"
   ]
  },
  {
   "cell_type": "markdown",
   "metadata": {},
   "source": [
    "Sie soll die Ableitung einer Funktion `func` an der Stelle `x` berechnen. Nutzen Sie dafür den oben genannten Differenzenquotient mit Schrittweite `delta`. Die Funktion soll Ihrer Numerik-Bibliothek hinzugefügt werden.\n",
    "\n",
    "2. Bestimmen Sie die Ableitung der Funktion $f(x) = x^2(x−1)$ am Punkt $x = 1$ analytisch. Schreiben Sie dann eine Funktion, die den Wert der Funktion $f$ zurückgibt.\n",
    "\n",
    "3. Berechnen Sie mithilfe der selbst geschriebenen Funktion `diff` aus Ihrer Bibliothek die Ableitung der Funktion $f(x)$ an der Stelle $x = 1$ numerisch. Führen Sie diese Berechnung 100 mal durch, und zwar für Werte von $\\delta$, die im Bereich $10^0$ bis $10^{−16}$ logarithmisch verteilt sind. Schreiben Sie den Betrag der Differenz zwischen analytischem und numerischem Wert der Ableitung zusammen mit dem Wert für $\\delta$ in eine Datei auf der Festplatte.\n",
    "\n",
    "4. Plotten Sie den numerischen Fehler der Ableitung gegen die verwendete Schrittweite und bestimmen Sie das Minimum des Fehlers. Nutzen Sie hier für eine doppellogarithmische Darstellung. Können Sie den Verlauf der Kurve erklären?\n",
    "\n",
    "5. **Bonus**: Verbessern Sie Ihre `diff`-Funktion, indem Sie die numerische Ableitung mithilfe der *Zentralen Differenz* $$f'(x) = \\frac{f(x+\\delta) - f(x-\\delta)}{2\\delta}$$ berechnen. Während die Konvergenzordnung des bisher benutzten Differenzenquotienten (hier: Vorwärtsdifferenz) von Ordnung $O(\\delta)$ ist, ist diese bei der Zentralen Differenz $O(\\delta^2)$. Wie wirkt sich dies auf den Kurvenverlauf in Ihrem doppellogarithmischen Plot aus?"
   ]
  },
  {
   "cell_type": "markdown",
   "metadata": {},
   "source": [
    "**Hinweis**: Die analytische Ableitung der Funktion $f(x) = x^2(x−1)$ ist leicht zu finden, es gibt jedoch eine Einführung in die symbolische Rechnung mit SymPy am [Ende des Notebooks](#Symbolisches-Rechnen)."
   ]
  },
  {
   "cell_type": "markdown",
   "metadata": {},
   "source": [
    "### Aufgabenlösung 6"
   ]
  },
  {
   "cell_type": "code",
   "execution_count": null,
   "metadata": {},
   "outputs": [],
   "source": []
  },
  {
   "cell_type": "code",
   "execution_count": null,
   "metadata": {},
   "outputs": [],
   "source": []
  },
  {
   "cell_type": "code",
   "execution_count": null,
   "metadata": {},
   "outputs": [],
   "source": []
  },
  {
   "cell_type": "markdown",
   "metadata": {},
   "source": [
    "# Selsttest\n",
    "\n",
    "* Wieso kann man mit einem Compuer nicht beliebig genau rechnen?\n",
    "* Was ist die grundlegende Vorgehensweise, wenn ich Code wiederverwenden möchte bzw. für zukünftige Programme wiederverwendbar designen möchte?\n",
    "* Was versteht man unter einem ‘Object’ beim Kompilieren?\n",
    "* Kann man eine Funktion an eine Funktion übergeben?\n",
    "* Wie bestimmt man numerisch eine Ableitung, und was bestimmt die Genauigkeit des Ergebnisses?\n",
    "* Was ist ein Include-Guard? (C/C++)\n",
    "* Was ist die grundlegende Struktur und funktionsweise eines `make`-Files?\n",
    "* Wann ist es sinnvoll, die `const`-Deklaration zu verwenden?\n",
    "* Was kann man tun, um beim Aufrufen von Funktionen von Matrizen zu vermeiden, dass unnötigerweise Daten hin- und her kopiert werden?"
   ]
  },
  {
   "cell_type": "markdown",
   "metadata": {},
   "source": [
    "# Tipps"
   ]
  },
  {
   "cell_type": "markdown",
   "metadata": {},
   "source": [
    "### Klassen zur Zusammenfassung von Variablen"
   ]
  },
  {
   "cell_type": "markdown",
   "metadata": {},
   "source": [
    "Das Folgende ([Data Classes](https://docs.python.org/3/library/dataclasses.html#module-dataclasses)) ist eine relativ neue Funktion von Python, da sie in der Version 3.7 hinzugefügt wurde. Es kann sich lohnen, zu überprüfen, ob diese Version oder höher derzeit installiert ist:"
   ]
  },
  {
   "cell_type": "code",
   "execution_count": null,
   "metadata": {},
   "outputs": [],
   "source": [
    "!python3 --version"
   ]
  },
  {
   "cell_type": "markdown",
   "metadata": {},
   "source": [
    "Sie können Klassen in Python benutzen, um Variablen in logische Einheiten zusammenzufassen. Möchten Sie z.B. einen 3D Vektor erstellen, können Sie eine Klasse benutzen um *x*-, *y*- und *z*-Koordinate unter einer einzigen Variable zu speichern. Definieren Sie hierfür in Python die Klasse `vector3` mit folgendem Befehl:"
   ]
  },
  {
   "cell_type": "code",
   "execution_count": null,
   "metadata": {},
   "outputs": [],
   "source": [
    "from dataclasses import dataclass\n",
    "\n",
    "@dataclass\n",
    "class vector3:\n",
    "    x: float\n",
    "    y: float\n",
    "    z: float = 0.0\n",
    "\n",
    "u = vector3(1.5, 2.5)\n",
    "\n",
    "print(\"Vektor: \", u)"
   ]
  },
  {
   "cell_type": "markdown",
   "metadata": {},
   "source": [
    "Sie können auf die Komponenten des Vektors dann mit dem Punktoperator “.” wie folgt zugreifen:"
   ]
  },
  {
   "cell_type": "code",
   "execution_count": null,
   "metadata": {
    "scrolled": true
   },
   "outputs": [],
   "source": [
    "print(\"Komponenten des Vektors:\\n x = \", u.x, \"\\n y = \", u.y, \"\\n z = \", u.z)"
   ]
  },
  {
   "cell_type": "markdown",
   "metadata": {},
   "source": [
    "Im obigen Beispiel hat die z-Komponente den Standardwert 0, aber diese Werte können geändert werden:"
   ]
  },
  {
   "cell_type": "code",
   "execution_count": null,
   "metadata": {},
   "outputs": [],
   "source": [
    "u.y = 1.2\n",
    "u.z = 10\n",
    "print(u)"
   ]
  },
  {
   "cell_type": "markdown",
   "metadata": {},
   "source": [
    "**Hinweis**: Der `@dataclass`-Dekorator fügt der Klasse standardmäßig einige nützliche Methoden hinzu, was die Implementierung von Klassen erleichtert, als ob sie die klassischen C-Strukturen wären. Dies kann auch ohne den Dekorator erreicht werden, zum Preis von etwas zusätzlichem Aufwand."
   ]
  },
  {
   "cell_type": "markdown",
   "metadata": {},
   "source": [
    "### Symbolisches Rechnen"
   ]
  },
  {
   "cell_type": "markdown",
   "metadata": {},
   "source": [
    "Der folgende Code-Block zeigt kurz, wie die Ableitung einer Funktion mit SymPy berechnet werden kann. In diesem Fall wird $f(x) = x^3(x-1)^2$ verwendet."
   ]
  },
  {
   "cell_type": "code",
   "execution_count": null,
   "metadata": {},
   "outputs": [],
   "source": [
    "from sympy import init_session\n",
    "init_session(use_latex=True)"
   ]
  },
  {
   "cell_type": "code",
   "execution_count": null,
   "metadata": {},
   "outputs": [],
   "source": [
    "# Define a symbolic function\n",
    "x = symbols('x')\n",
    "\n",
    "# Define the expression\n",
    "expr = x**3 * (x-1)**2\n",
    "\n",
    "# Print the expression\n",
    "expr"
   ]
  },
  {
   "cell_type": "code",
   "execution_count": null,
   "metadata": {},
   "outputs": [],
   "source": [
    "# Derivative with respect to x\n",
    "expr.diff(x)"
   ]
  },
  {
   "cell_type": "code",
   "execution_count": null,
   "metadata": {},
   "outputs": [],
   "source": [
    "# Evaluate for a specific value, say x=1\n",
    "expr.subs(x,1)"
   ]
  }
 ],
 "metadata": {
  "kernelspec": {
   "display_name": "Python 3",
   "language": "python",
   "name": "python3"
  },
  "language_info": {
   "codemirror_mode": {
    "name": "ipython",
    "version": 3
   },
   "file_extension": ".py",
   "mimetype": "text/x-python",
   "name": "python",
   "nbconvert_exporter": "python",
   "pygments_lexer": "ipython3",
   "version": "3.7.4"
  }
 },
 "nbformat": 4,
 "nbformat_minor": 2
}
