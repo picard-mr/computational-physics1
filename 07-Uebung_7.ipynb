{
 "cells": [
  {
   "cell_type": "markdown",
   "metadata": {},
   "source": [
    " <img align=\"right\" src=\"files/img/PhUniMa_Logo_sw.svg\">\n",
    "\n",
    "*Phillips-Universität Marburg* <br>\n",
    "*Fachbereich Physik*<br>\n",
    "*Priv.-Doz. Dr. S.R. Manmana, WiSe 2020/21*\n",
    "\n",
    "<h1><center>Übungen zur Vorlesung Computational Physics I<br><br>Blatt 7</center></h1>\n",
    "\n",
    "---"
   ]
  },
  {
   "cell_type": "markdown",
   "metadata": {},
   "source": [
    "# Lernziele dieses Übungsblattes\n",
    "\n",
    "\n",
    "* Laplace-Gleichung zur Berechnung elektrostatischer Potentiale."
   ]
  },
  {
   "cell_type": "markdown",
   "metadata": {},
   "source": [
    "# Aufgabenmodus\n",
    "\n",
    "Die Aufgabe dieses Übungsblattes verfügt über ein Tutorial, das Sie am Ende des Dokumentes finden. Abhängig von Ihren Vorkenntnissen können Sie die Aufgabe entweder eigenständig bearbeiten, oder dem dazugehörigen Tutorial folgen."
   ]
  },
  {
   "cell_type": "markdown",
   "metadata": {},
   "source": [
    "# Übungsaufgaben"
   ]
  },
  {
   "cell_type": "markdown",
   "metadata": {},
   "source": [
    "## Aufgabe 20: *Gauss-Seidel-Verfahren (Tutorial)*\n",
    "\n",
    "\n",
    "In dieser Aufgabe berechnen Sie das elektrische Potential zweier geladener Elektroden. Das 2D-System besteht aus einer 1m x 1m Box, deren Wände auf der Spannung 0V gehalten werden. Im Inneren befinden sich im Abstand von 20cm zueinander zwei Elektroden vom Radius 10cm. Eine Elektrode wird auf einer Spannung von 1V gehalten, die andere auf -1V.\n",
    "\n",
    "<img src=\"files/img/Aufgabe20.png\" style=\"width: 65vw;\">\n",
    "\n",
    "Das elektrische Potential $\\phi$ genügt dann der Laplace-Gleichung:\n",
    "\n",
    "$$\\Delta\\phi = 0$$\n",
    "\n",
    "Zur numerischen Bestimmung wird das Feld $\\phi$ auf $N^2$ in einem Gitter angeordneten Stützstellen diskretisiert. Mit der Methode der *finiten Differenzen* wird der Laplace-Operator dann durch folgenden 5-Punkt-Stempel genähert:\n",
    "\n",
    "$$\\Delta\\phi(x_{ij}) \\approx \\frac{\\phi_N + \\phi_S + \\phi_W + \\phi_E - 4\\phi_{ij}}{\\Delta x^2}$$\n",
    "\n",
    "Dabei ist $\\Delta x = \\frac{1m}{N}$ der Abstand der Stützstellen und $\\phi_N, \\phi_S, \\phi_W$ und $\\phi_E$ seien Kurzbezeichnungen für das Potential der vier jeweiligen Nachbarn des Punktes $\\phi_{ij}$.\n",
    "\n",
    "Eingesetzt in die Laplace-Gleichung ergibt sich also folgendes Gleichungssystem für das elektrische Potential im Inneren der Box:\n",
    "\n",
    "$$\\phi_N + \\phi_S + \\phi_W + \\phi_E - 4\\phi_{ij} = 0$$\n",
    "\n",
    "Für alle Punkte auf dem Rand oder auf den Elektroden gilt eine Dirichlet-Randbedingung:\n",
    "\n",
    "$$\\phi_{rand} = ?V$$\n",
    "\n",
    "Die Lösung des Gleichungssystems kann mit dem Gauss-Seidel-Verfahren bestimmt werden. Dieses löst ein Gleichungssystem der Form $Ax = b$ durch wiederholte Anwendung der Vorschrift\n",
    "\n",
    "$$x^{(k+1)}_i = \\frac{1}{a_{ij}} \\left( b_i - \\sum^{i-1}_{j=1}a_{ij}x^{(k+1)}_j - \\sum^n_{j=i+1}a_{ij}x^{(k)}_j \\right)$$\n",
    "\n",
    "Beachten Sie, dass das Verfahren nicht für alle Gleichungssysteme stabil ist und die Lösung anderer partieller Differentialgleichungen möglicherweise nicht findet.\n",
    "\n",
    "Durch Anwenden des Gauss-Seidel-Verfahrens auf die diskretisierte Laplace-Gleichung ergibt sich folgende Iterationsvorschrift für das Aktualisieren eines (inneren) Gitterpunktes:\n",
    "\n",
    "$$\\phi^{(k+1)}_{ij} = \\frac{1}{4}\\left( \\phi^{(k+1)}_N + \\phi^{(k)}_S + \\phi^{(k+1)}_W + \\phi^{(k)}_E \\right)$$\n",
    "\n",
    "Jeder Gitterpunkt wird also durch den Mittelwert seiner vier Nachbarn ersetzt. Dabei wird mit dem linken oberen Punkt begonnen und das Feld dann zeilenweise durchlaufen. Bereits aktualisierte Punkte werden dabei direkt weiterverwendet. Alle Punkte, die einer Dirichlet-Bedingung unterliegen, haben in allen Iterationsschritten einen konstanten, vorgegebenen Wert.\n",
    "\n",
    "**Hinweis**: Im Allgemeinen werden Sie die meisten partiellen Differentialgleichungen nicht in eine solche einfache Form bringen können. Stattdessen wird die Matrix *A* mit den Koeffizienten direkt generiert und gelöst, wobei in der Regel eine effektive Speicherstrategie benötigt wird, da die Matrix quadratisch in der Gesamtzahl der Gitterpunkte wächst."
   ]
  },
  {
   "cell_type": "markdown",
   "metadata": {},
   "source": [
    "1. Berechnen Sie das elektrische Potential $\\phi$ des Systems auf einem 64x64 Gitter. Nutzen Sie eine Finite-Differenzen-Diskretisierung des Laplace-Operators und lösen Sie das resultierende Gleichungssystem mit dem Gauss-Seidel-Verfahren."
   ]
  },
  {
   "cell_type": "markdown",
   "metadata": {},
   "source": [
    "2. Plotten Sie das Potential in einer geeigneten Darstellung. Visualisieren Sie außerdem die Feldlinien des elektrischen Feldes, das Sie aus dem Gradienten des Potentials erhalten."
   ]
  },
  {
   "cell_type": "markdown",
   "metadata": {},
   "source": [
    "### Aufgabenlösung 20"
   ]
  },
  {
   "cell_type": "code",
   "execution_count": null,
   "metadata": {},
   "outputs": [],
   "source": []
  },
  {
   "cell_type": "code",
   "execution_count": null,
   "metadata": {},
   "outputs": [],
   "source": []
  },
  {
   "cell_type": "code",
   "execution_count": null,
   "metadata": {},
   "outputs": [],
   "source": []
  },
  {
   "cell_type": "markdown",
   "metadata": {},
   "source": [
    "# Selbsttest\n",
    "\n",
    "* Was ist die Grundidee beim Einschießverfahren?\n",
    "* Wie kann es sein, dass man das quantenmechanische Problem sowohl mithilfe des Einschießverfahrens, als auch durch direkte Diagonalisierung der Hamiltonmatrix lösen kann?\n",
    "* Wie geht man beim numerischen Diagonalisieren einer hermitschen (oder symmetrischen) Matrix vor?\n",
    "* Was versteht man unter Finite-Differenzen-Verfahren?\n",
    "* Was sind Dirichlet-Randbedingungen?\n",
    "* Was ist die Grundidee des Gauss-Seidel Verfahrens? Erwarten Sie, dass der hier benutzte Ansatz für alle partiellen Differentialgleichungen gleich erfolgsversprechend ist?\n",
    "* Erwarten Sie, dass die gekrümmte Oberfläche der Elektroden zu Problemen beim Finite-Differenzen-Ansatz führen kann?\n",
    "* Wie kann man mit Python eine Animation erstellen? Kennen Sie weitere Werkzeuge, mit deren Hilfe Sie Animationen aus Ihren Simulationsergebnissen erstellen können?"
   ]
  },
  {
   "cell_type": "markdown",
   "metadata": {},
   "source": [
    "# Tutorials\n",
    "\n",
    "### Tutorial zu Aufgabe 3: Gauss-Seidel-Verfahren"
   ]
  },
  {
   "cell_type": "markdown",
   "metadata": {},
   "source": [
    "1. Erstellen Sie eine Aufzählung für den Typ eines Gitterpunktes. Verwenden Sie dafür die [`Enum`-Klasse](https://docs.python.org/3/library/enum.html#how-are-enums-different)."
   ]
  },
  {
   "cell_type": "code",
   "execution_count": 1,
   "metadata": {},
   "outputs": [],
   "source": [
    "from enum import Enum\n",
    "\n",
    "class node_type(Enum):\n",
    "    INSIDE = 0\n",
    "    DIRICHLET = 1\n",
    "    NEUMANN = 2 # We won't be using these\n",
    "    DISABLED = 3"
   ]
  },
  {
   "cell_type": "markdown",
   "metadata": {},
   "source": [
    "Eine Aufzählung weist jedem Element automatisch eine im gesamten Programm gültige Ganzzahl zu. Der genaue Wert ist nicht wichtig, entscheidend ist die Konsistenz."
   ]
  },
  {
   "cell_type": "markdown",
   "metadata": {},
   "source": [
    "2. Erstellen Sie eine _Data Class_ (siehe ÜB2) für einen Gitterpunkt. Die _Data Class_ enthält den Potential-Wert `val` und den Typ des Gitterpunktes:"
   ]
  },
  {
   "cell_type": "code",
   "execution_count": 6,
   "metadata": {},
   "outputs": [],
   "source": [
    "from dataclasses import dataclass\n",
    "\n",
    "@dataclass\n",
    "class node:\n",
    "    ntype: node_type\n",
    "    val: float"
   ]
  },
  {
   "cell_type": "code",
   "execution_count": 52,
   "metadata": {},
   "outputs": [
    {
     "data": {
      "text/plain": [
       "node(ntype='DIRICHLET', val=3.14)"
      ]
     },
     "execution_count": 52,
     "metadata": {},
     "output_type": "execute_result"
    }
   ],
   "source": [
    "# E.g. to initialize a node of type Dirichlet and value 3.4\n",
    "node('DIRICHLET', 3.14)"
   ]
  },
  {
   "cell_type": "markdown",
   "metadata": {},
   "source": [
    "3. Erstellen Sie eine 2D-Liste aus Gitterpunkten:"
   ]
  },
  {
   "cell_type": "code",
   "execution_count": 9,
   "metadata": {},
   "outputs": [],
   "source": [
    "F = np.empty([N,N], dtype=node) # Pre-allocation"
   ]
  },
  {
   "cell_type": "markdown",
   "metadata": {},
   "source": [
    "4. Sie können auf die Einträge einer 2D-Liste mit zwei rechteckigen Klammern zugreifen:"
   ]
  },
  {
   "cell_type": "code",
   "execution_count": 59,
   "metadata": {},
   "outputs": [
    {
     "data": {
      "text/plain": [
       "3.14"
      ]
     },
     "execution_count": 59,
     "metadata": {},
     "output_type": "execute_result"
    }
   ],
   "source": [
    "F[12][1] = node('DIRICHLET', 3.14)\n",
    "F[12][1].val"
   ]
  },
  {
   "cell_type": "markdown",
   "metadata": {},
   "source": [
    "5. Erstellen Sie die Funktion"
   ]
  },
  {
   "cell_type": "code",
   "execution_count": null,
   "metadata": {},
   "outputs": [],
   "source": [
    "def InitDomain(N, F, N_val, E_val, S_val, W_val):\n",
    "    pass"
   ]
  },
  {
   "cell_type": "markdown",
   "metadata": {},
   "source": [
    "Die Funktion soll das quadratische Array F initalisieren. Pro Dimension gibt es `N` Gitterpunkte. Alle inneren Punkte sollen auf ein Potential von 0V gesetzt werden und den Typ `INSIDE` erhalten. Alle Punkte auf dem Rand sollen den Typ `DIRICHLET` erhalten und mit dem entsprechenden Parameter initialisiert werden. Iterieren Sie mit geeigneten `for`-Schleifen durch das Array."
   ]
  },
  {
   "cell_type": "code",
   "execution_count": 56,
   "metadata": {},
   "outputs": [],
   "source": [
    "# Rand\n",
    "F[3][0] = node('DIRICHLET', N_val)\n",
    "\n",
    "# Innen\n",
    "F[3][3] = node('INSIDE', 0)"
   ]
  },
  {
   "cell_type": "markdown",
   "metadata": {},
   "source": [
    "6. Schreiben Sie die Funktion"
   ]
  },
  {
   "cell_type": "code",
   "execution_count": 10,
   "metadata": {},
   "outputs": [],
   "source": [
    "def InsertCircle(N, cx, cy, R, F, val):\n",
    "    pass"
   ]
  },
  {
   "cell_type": "markdown",
   "metadata": {},
   "source": [
    "Setzen Sie darin alle Punkte, die einen Abstand von weniger als `R` zur Koordinate `(cx,cy)` haben auf den festen Wert `val` und markieren Sie sie als `DIRICHLET`."
   ]
  },
  {
   "cell_type": "markdown",
   "metadata": {},
   "source": [
    "7. Schreiben Sie die Funktion"
   ]
  },
  {
   "cell_type": "code",
   "execution_count": null,
   "metadata": {},
   "outputs": [],
   "source": [
    "def PoissonGaussSeidel(N, F, iter_max, tolerance):\n",
    "    pass"
   ]
  },
  {
   "cell_type": "markdown",
   "metadata": {},
   "source": [
    "Gehen Sie darin mit zwei `for`-Schleifen durch alle Gitterpunkte und wenden Sie die korrekte Gauss-Seidel-Aktualisierung für den Gitterpunkt-Typ an. Am einfachsten geht das mit einem `if-else`-Statement:"
   ]
  },
  {
   "cell_type": "code",
   "execution_count": null,
   "metadata": {},
   "outputs": [],
   "source": [
    "if (F[i][j].ntype == 'INSIDE'):\n",
    "    # Hier einen inneren Gitterpunkt aktualisieren\n",
    "elif (F[i][j].ntype == 'DIRICHLET'):\n",
    "    # Hier einen Randwert aktualisieren"
   ]
  },
  {
   "cell_type": "markdown",
   "metadata": {},
   "source": [
    "Berechnen Sie in jeder Iteration die **quadratische** relative Änderung aller Gitterpunkte und summieren Sie diese auf:\n",
    "\n",
    "$$R^2 = \\sum_{ij}\\left( \\frac{\\phi^{(k+1)}_{ij} - \\phi^{(k)}_{ij}}{\\phi^{(k)}_{ij}} \\right)^2$$\n",
    "\n",
    "Wiederholen Sie die Iteration so lange, bis entweder $\\sqrt{R^2} <$ `tolerance` oder bis die maximale Iterationszahl `iter_max` erreicht wurde."
   ]
  },
  {
   "cell_type": "markdown",
   "metadata": {},
   "source": [
    "8. Initialisieren Sie Ihr Array `F` mit der Funktion `InitDomain()`. Benutzen Sie die Funktion `InsertCircle` um die zwei Elektroden zu setzen. Lösen Sie dann die Laplace-Gleichung."
   ]
  },
  {
   "cell_type": "markdown",
   "metadata": {},
   "source": [
    "9. Schreiben Sie den Feld `val` als CSV-Datei auf die Festplatte und visualisieren Sie es. In Python geht das sehr einfach mit `matshow`:"
   ]
  },
  {
   "cell_type": "code",
   "execution_count": 17,
   "metadata": {},
   "outputs": [],
   "source": [
    "import matplotlib.pyplot as plt\n",
    "\n",
    "F = np.loadtxt(\"field.csv\")\n",
    "plt.matshow(F.T,10)"
   ]
  },
  {
   "cell_type": "markdown",
   "metadata": {},
   "source": [
    "So können Sie 14 Äquipotentiallinien mit `contour` zeichnen:"
   ]
  },
  {
   "cell_type": "code",
   "execution_count": null,
   "metadata": {},
   "outputs": [],
   "source": [
    "plt.contour(F.T, 14, colors = \"black\")"
   ]
  },
  {
   "cell_type": "markdown",
   "metadata": {},
   "source": [
    "Wenn Sie den Bereich zwischen den Linien farbig füllen wollen, benutzen Sie:"
   ]
  },
  {
   "cell_type": "code",
   "execution_count": null,
   "metadata": {},
   "outputs": [],
   "source": [
    "plt.contourf(F.T, 14)"
   ]
  },
  {
   "cell_type": "markdown",
   "metadata": {},
   "source": [
    "Sie können auch die Feldlinien direkt von Python zeichnen lassen. Dazu müssen Sie zunächst ein Koordinatenfeld `X`, `Y` generieren:"
   ]
  },
  {
   "cell_type": "code",
   "execution_count": 15,
   "metadata": {},
   "outputs": [],
   "source": [
    "X, Y = np.meshgrid(*[np.arange(0, i) for i in x.shape]) # (*)-Operator to unpack the list"
   ]
  },
  {
   "cell_type": "markdown",
   "metadata": {},
   "source": [
    "Sie brauchen außerdem das Gradientenfeld von `F`:"
   ]
  },
  {
   "cell_type": "code",
   "execution_count": null,
   "metadata": {},
   "outputs": [],
   "source": [
    "dy, dx = np.gradient(F.T)"
   ]
  },
  {
   "cell_type": "markdown",
   "metadata": {},
   "source": [
    "**Wichtig**: Beachten Sie, dass `dy` zuerst zurückgegeben wird.\n",
    "\n",
    "Plotten Sie die Feldlinien anschließend mit:"
   ]
  },
  {
   "cell_type": "code",
   "execution_count": null,
   "metadata": {},
   "outputs": [],
   "source": [
    "plt.streamplot(X,Y,dx,dy,color=’black’)"
   ]
  }
 ],
 "metadata": {
  "kernelspec": {
   "display_name": "Python 3",
   "language": "python",
   "name": "python3"
  },
  "language_info": {
   "codemirror_mode": {
    "name": "ipython",
    "version": 3
   },
   "file_extension": ".py",
   "mimetype": "text/x-python",
   "name": "python",
   "nbconvert_exporter": "python",
   "pygments_lexer": "ipython3",
   "version": "3.7.4"
  }
 },
 "nbformat": 4,
 "nbformat_minor": 2
}
