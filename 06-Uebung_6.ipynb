{
 "cells": [
  {
   "cell_type": "markdown",
   "metadata": {},
   "source": [
    " <img align=\"right\" src=\"files/img/PhUniMa_Logo_sw.svg\">\n",
    "\n",
    "*Phillips-Universität Marburg* <br>\n",
    "*Fachbereich Physik*<br>\n",
    "*Priv.-Doz. Dr. S.R. Manmana, WiSe 2020/21*\n",
    "\n",
    "<h1><center>Übungen zur Vorlesung Computational Physics I<br><br>Blatt 6</center></h1>\n",
    "\n",
    "---"
   ]
  },
  {
   "cell_type": "markdown",
   "metadata": {},
   "source": [
    "# Lernziele dieses Übungsblattes\n",
    "\n",
    "\n",
    "* Einschießverfahren zur Lösung von gewöhnlichen Randwertproblemen: Dichteverteilung im Inneren eines Sterns und numerische Bestimmung der Eigenwerte des quantenmechanischen harmonischen Oszillators."
   ]
  },
  {
   "cell_type": "markdown",
   "metadata": {},
   "source": [
    "# Aufgabenmodus\n",
    "\n",
    "Die Aufgaben auf diesem Blatt sind Beispiele von Randwertproblemen in einer Raumdimension (bzw. reduziert auf ein eindimensionales Problem), wie sie mit dem in der Vorlesung behandelten Einschießverfahren behandelt werden können. Sie sollten die Aufgaben mit Ihren bisherigen Kenntnissen bearbeiten können."
   ]
  },
  {
   "cell_type": "markdown",
   "metadata": {},
   "source": [
    "# Übungsaufgaben"
   ]
  },
  {
   "cell_type": "markdown",
   "metadata": {},
   "source": [
    "## Aufgabe 18: *Dichteverteilung in einem Stern*\n",
    "\n",
    "\n",
    "Im Rahmen dieser Aufgabe soll die in der Vorlesung besprochene Problematik der Dich- teverteilung innerhalb eines Sterns berechnet werden.\n",
    "\n",
    "Die radiale Dichteverteilung eines Sterns erfüllt die Differentialgleichung\n",
    "\n",
    "$$\\frac{1}{r^2}\\frac{d}{dr}\\left(r^2\\kappa\\gamma\\rho^{\\gamma-2}\\frac{d\\rho}{dr}\\right) = -4\\pi \\rho G,$$\n",
    "\n",
    "wobei $\\gamma = 5/3$ und $\\kappa = 1$ benutzt werden soll.\n",
    "\n",
    "Die Randbedingungen seien, dass die Dichte im Zentrum des Sterns $\\rho_0$ und konstant ist, also $d\\rhoρ/dr = 0$, und dass die Dichte ausserhalb des Sterns $\\rho(r > R) = 0$, wobei wir für diese Aufgabe $R = 1.2 R_{\\odot}$ (Radius von $\\alpha$ Centauri A, $R_{\\odot} = 7 \\cdot 10^8$ m) nehmen wollen:\n",
    "\n",
    "$$\\rho(0) = \\rho_0 \\\\\n",
    "\\frac{d\\rho}{dr}(0) = 0 \\\\\n",
    "\\rho(R) = 0$$\n",
    "\n",
    "Da die Differentialgleichung eine Singularität für $r = 0$ aufweist, müssen wir die “Anfangsbedingungen” für ein $r = \\epsilon, \\epsilon \\ll R$ umformulieren. Man erhält aus der Anfangsgleichung\n",
    "\n",
    "$$\\frac{d\\rho}{dr}(\\epsilon) \\approx - \\frac{1}{\\kappa\\gamma}\\rho_0^{2-\\gamma}\\frac{Gm(\\epsilon)}{\\epsilon^2}$$\n",
    "\n",
    "wobei $m(\\epsilon) = \\frac{4}{3}\\pi\\rho_0\\epsilon^3$ die Masse einer Kugel mit Radius $\\epsilon$ ist, wenn wir als Näherung annehmen, dass innerhalb dieser Kugel die Dichte konstant ist, d.h. $\\rho(r) = \\rho_0$ für $r \\leq \\epsilon$.\n",
    "\n",
    "Damit kann nun die DGL als Anfangswertproblem mit Hilfe eines Runge-Kutta Verfahrens 4. Ordnung gelöst werden."
   ]
  },
  {
   "cell_type": "markdown",
   "metadata": {},
   "source": [
    "* Schreiben Sie ein Programm, das die angegebene Differentialgleichung für einen beliebigen Anfangswert von $\\rho_0$ mittels Runge-Kutta 4. Ordnung löst. Benutzen Sie als Abbruchkriterium eine Grenzdichte von $2 \\cdot 10^{-4}$ kg/m$^3$. Für einen gegebenen Wert von $\\rho_0$ sei der Radius, an dem diese Bedingung erfüllt ist, $\\tilde{R}(\\rho_0)$. Wenden Sie das sogenannte _Einschiessverfahren_ an:\n",
    "\n",
    "    Variieren Sie den Wert von $\\rho_0$ so lange, bis die Differenz $\\Delta(\\rho_0) = \\left|R - \\tilde{R}(\\rho_0)\\right| = 0$.\n",
    "    \n",
    "    Den entsprechenden Wert von ρ0 nehmen Sie dann fu ̈r die weiteren Betrachtugnen als ’richtigen’ Wert der Dichte im Zentrum des Sterns.\n",
    "    \n",
    "    *Hinweise:*\n",
    "    \n",
    "    * Sie können die Nullstellensuche für $\\Delta(\\rho_0)$ entweder durch einen der in der Vorlesung diskutierten Algorithmen oder graphisch durchführen.\n",
    "    * Es empfiehlt sich, im Programm $\\rho_0$ systematisch zu variieren, indem man eine `for`- oder `while`-Schleife implementiert."
   ]
  },
  {
   "cell_type": "markdown",
   "metadata": {},
   "source": [
    "* Plotten Sie die so erhaltene Dichteverteilung im Inneren des Sterns mit Hilfe von `matplotlib`."
   ]
  },
  {
   "cell_type": "markdown",
   "metadata": {},
   "source": [
    "* _Bonus_ : Wie sehen die radiale Masse-, Temperatur- und Druckverteilung im Inneren des Sterns aus?"
   ]
  },
  {
   "cell_type": "markdown",
   "metadata": {},
   "source": [
    "### Aufgabenlösung 18"
   ]
  },
  {
   "cell_type": "code",
   "execution_count": null,
   "metadata": {},
   "outputs": [],
   "source": []
  },
  {
   "cell_type": "code",
   "execution_count": null,
   "metadata": {},
   "outputs": [],
   "source": []
  },
  {
   "cell_type": "code",
   "execution_count": null,
   "metadata": {},
   "outputs": [],
   "source": []
  },
  {
   "cell_type": "markdown",
   "metadata": {},
   "source": [
    "## Aufgabe 19: *Eigenwerte eines quantenmechanischen Systems*"
   ]
  },
  {
   "cell_type": "markdown",
   "metadata": {},
   "source": [
    "In dieser Aufgabe berechnen Sie die Energieeigenwerte eines quantenmechanischen harmonischen Oszillators.\n",
    "\n",
    "Der Energiezustand eines Teilchens der Masse m in einem harmonischen Potential\n",
    "\n",
    "$$V(x) = \\frac{1}{2}kx^2$$\n",
    "\n",
    "wird durch die zeitunabhängige Schrödingergleichung\n",
    "\n",
    "$$\\frac{\\partial^2\\psi(x)}{\\partial x^2} = -\\frac{2m}{\\hbar^2}(E - V(x)) \\, \\psi(x)$$\n",
    "\n",
    "beschrieben. Wie Sie aus der Quantenmechanik-Vorlesung wissen ergibt sich ein diskretes Energiespektrum, wenn $\\psi \\rightarrow 0$ für $x \\rightarrow \\pm\\infty$ gefordert wird. Die Bestimmung dieses Spektrums kann z.B. über das sog. Einschießverfahren (engl. _shooting method_) erfolgen.\n",
    "\n",
    "Das Verfahren lässt sich auch auf die Schrödingergleichung anwenden. Dabei ist die Energie $E$ der optimierte Parameter. Das Optimierungsziel ist der Wert der Wellenfunktion im Zentrum des harmonischen Potentials. Aus Symmetriegründen gilt einer der beiden folgenden Bedingungen gerade dann, wenn $\\psi$ eine Energie-Eigenfunktion ist:\n",
    "\n",
    "$$\\psi(0) = 0 \\;\\;\\;\\;\\;\\; \\text{oder} \\;\\;\\;\\;\\;\\; \\left. \\frac{\\partial\\psi(x)}{\\partial x}\\middle|_{x=0} \\right. =: \\psi'(0) = 0$$\n",
    "\n",
    "<img src=\"files/img/Aufgabe19.png\" style=\"width: 65vw;\">\n",
    "\n",
    "Das Verfahren kann für beliebige Potentiale verallgemeinert werden, erfordert dann aber mehrere Integrationen pro Energie."
   ]
  },
  {
   "cell_type": "markdown",
   "metadata": {},
   "source": [
    "1. Schreiben Sie die die Funktion"
   ]
  },
  {
   "cell_type": "code",
   "execution_count": 3,
   "metadata": {},
   "outputs": [],
   "source": [
    "def schroedinger_harmonic_ODE(x, y, f, params):\n",
    "    E = params\n",
    "    f[0] = ??? # Derivative of psi\n",
    "    f[1] = ??? # Derivative of psi-prime"
   ]
  },
  {
   "cell_type": "markdown",
   "metadata": {},
   "source": [
    "die die rechte Seite der Schrödingergleichung implementiert.\n",
    "\n",
    "\n",
    "Überführen Sie sie dazu in ein Differentialgleichungssystem 1. Ordnung, so dass der Zustandsvektor folgende Form hat:\n",
    "\n",
    "$$\\vec{y}(x) = \\begin{pmatrix}\\psi(x) \\\\ \\psi'(x)\\end{pmatrix}$$\n",
    "\n",
    "Wählen Sie $m = k = \\hbar = 1$."
   ]
  },
  {
   "cell_type": "markdown",
   "metadata": {},
   "source": [
    "2. Schreiben Sie die Funktion"
   ]
  },
  {
   "cell_type": "code",
   "execution_count": null,
   "metadata": {},
   "outputs": [],
   "source": [
    "def test_energy(E):\n",
    "    psi = [1, 0]\n",
    "    #...\n",
    "    return psi[0] * psi[1]"
   ]
  },
  {
   "cell_type": "markdown",
   "metadata": {},
   "source": [
    "Integrieren Sie mit Ihrem RK2-Integrator die Schrödingergleichung von $x_0 = -10$ bis zum Zentrum des Potentials bei $x_1 = 0$. Übergeben Sie die Energie (bzw. die Adresse der Energie in C/C++) als Parameter an den Integrator. Achten Sie außerdem darauf, den Wert $x_1$ _exakt_ zu erreichen. Als Schrittweite ist $\\Delta x = 10^{-3}$ geeignet.\n",
    "\n",
    "Der Wert $x_0$ ist so gewählt, dass die Wellenfunktion $\\psi(x_0)$ exponentiell hinreichend abgeklungen ist und die linke Randbedingung somit keinen nennenswerten Einfluss auf die Gesamtlösung hat. Da die Schrödingergleichung linear ist, kann der Startwert also beliebig gewählt werden. Er muss aber verschieden von Null sein.\n",
    "\n",
    "Geben Sie das Produkt $\\psi(x_1)\\cdot\\psi'(x_1)$ zurück. Die Funktion hat genau dann einen Nulldurchgang, wenn $E$ ein Energieeigenwert ist."
   ]
  },
  {
   "cell_type": "markdown",
   "metadata": {},
   "source": [
    "3. Plotten Sie die Funktion `test_energy(E)` für Energien aus dem Intervall $[0.1,10]$. Die Funktion hat einen enormen Dynamikumfang,Sie müssen den Plot also möglicherweise transformieren, um das Verhalten sichtbar zu machen. Sie können dafür z.B. die Log-Modulus-Transformation\n",
    "\n",
    "$$L(x) = sign(x) \\cdot log_{10}(|x|+1)$$\n",
    "\n",
    "verwenden. Sind die Nulldurchgänge an den erwarteten Positionen?"
   ]
  },
  {
   "cell_type": "markdown",
   "metadata": {},
   "source": [
    "4. Bestimmen Sie die **Nullpunktsenergie** und die **erste Anregungungsenergie** des Oszillators mit Ihrer Funktion `findRoot` und stellen Sie jeweils das dazugehörige Orbital (Wellenfunktion) dar. Wieso sind die berechneten Werte $\\phi(x)$ so groß?"
   ]
  },
  {
   "cell_type": "markdown",
   "metadata": {},
   "source": [
    "### Aufgabenlösung 19"
   ]
  },
  {
   "cell_type": "code",
   "execution_count": null,
   "metadata": {},
   "outputs": [],
   "source": []
  },
  {
   "cell_type": "code",
   "execution_count": null,
   "metadata": {},
   "outputs": [],
   "source": []
  },
  {
   "cell_type": "code",
   "execution_count": null,
   "metadata": {},
   "outputs": [],
   "source": []
  },
  {
   "cell_type": "markdown",
   "metadata": {},
   "source": [
    "# Selbsttest\n",
    "\n",
    "* Was ist die Grundidee beim Einschießverfahren?"
   ]
  },
  {
   "cell_type": "code",
   "execution_count": null,
   "metadata": {},
   "outputs": [],
   "source": []
  }
 ],
 "metadata": {
  "kernelspec": {
   "display_name": "Python 3",
   "language": "python",
   "name": "python3"
  },
  "language_info": {
   "codemirror_mode": {
    "name": "ipython",
    "version": 3
   },
   "file_extension": ".py",
   "mimetype": "text/x-python",
   "name": "python",
   "nbconvert_exporter": "python",
   "pygments_lexer": "ipython3",
   "version": "3.7.4"
  }
 },
 "nbformat": 4,
 "nbformat_minor": 2
}
