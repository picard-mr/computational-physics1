{
 "cells": [
  {
   "cell_type": "markdown",
   "metadata": {},
   "source": [
    " <img align=\"right\" src=\"files/img/PhUniMa_Logo_sw.svg\">\n",
    "\n",
    "*Phillips-Universität Marburg* <br>\n",
    "*Fachbereich Physik*<br>\n",
    "*Priv.-Doz. Dr. S.R. Manmana, WiSe 2020/21*\n",
    "\n",
    "<h1><center>Übungen zur Vorlesung Computational Physics I</center></h1>\n",
    "\n",
    "---"
   ]
  },
  {
   "cell_type": "markdown",
   "metadata": {},
   "source": [
    "# Lernziele dieses Übungsblattes\n",
    "\n",
    "\n",
    "* Schreiben Python-Programms als Notebook\n",
    "* Numerische Integration einer 1D-Funktion\n",
    "* Diskrete Fouriertransformation\n",
    "* Programmierkonzepte: for-Schleifen, Funktionen\n",
    "* Grafische Darstellung von Funktionswerten"
   ]
  },
  {
   "cell_type": "markdown",
   "metadata": {},
   "source": [
    "# Aufgabenmodus\n",
    "\n",
    "Die Aufgaben 1) und 2) verfügen über Tutorials, die Sie am Ende des Dokumentes finden. Abhängig von Ihren Vorkenntnissen können Sie die Aufgaben entweder eigenständig bearbeiten, oder dem dazugehörigen Tutorial folgen. Ziel der Tutorials ist es, Sie durch die grundlegenden Lernkonzepte zu führen. Nach Abschluss eines Tutorials haben Sie ein funktionierendes Programm vorliegen und die entsprechende (Teil-)Aufgabe hinreichend bearbeitet.\n",
    "\n",
    "Die Tutorials fallen zunächst sehr feinschrittig aus, werden aber im Laufe des Semesters zu- nehmend aufeinander aufbauen. Bereits erläuterte Konzepte müssen Sie dann ggf. in früheren Übungen nachlesen.\n",
    "\n",
    "Die Tutorials sind lediglich als Lösungs-Vorschlag zu verstehen. Wir ermutigen Sie, auch Ihre eigenen Implementierungen auszuprobieren.\n",
    "\n",
    "Manche Teilaufgaben sind als **Bonus**-Aufgaben gekennzeichnet und dienen der Vertiefung Ihres Verständnisses der Algorithmen. Wir empfehlen Ihnen, zunächst die normalen Aufgaben zu bearbeiten."
   ]
  },
  {
   "cell_type": "markdown",
   "metadata": {},
   "source": [
    "# Studienleistung \n",
    "\n",
    "Die Bearbeitung von Aufgabe 3 ist die erste von vier unbenoteten Leistungen, die Sie einreichen müssen. Reichen Sie Ihre Bearbeitung (Quellcode und aussagekräftige Plots) bis zum 27. November per Email bei mir ein. Ihnen wird die Bearbeitung testiert, wenn die Aufgabe hinreichend bearbeitet wurde. Dabei bleibt es Ihnen überlassen, ob Sie den Code in Python oder in C/C++ implementieren. Wenn Sie Python benutzen wollen, empfehle ich Ihnen, ein Jupyter-Notebook zu erstellen und dieses einzureichen."
   ]
  },
  {
   "cell_type": "markdown",
   "metadata": {},
   "source": [
    "# Übungsaufgaben"
   ]
  },
  {
   "cell_type": "markdown",
   "metadata": {},
   "source": [
    "## Aufgabe 1: *Einfache Integration eines Polynoms (Tutorial)*\n",
    "\n",
    "Ziel dieser Aufgabe ist es, durch numerische Approximation folgendes Integral auszuwerten:\n",
    "\n",
    "$$P_1(x) = \\int_0^x (y^2 - y) dy$$\n",
    "\n",
    "<img src=\"files/img/int_methods.png\">\n",
    "\n",
    "Der Integrand $p_1(x)$ des Integrals wird im Folgenden als Ableitung (von $P_1(x)$) bezeichnet:\n",
    "\n",
    "$$p_1(y) = y^2 - y$$\n",
    "\n",
    "1. Lösen Sie das Integral $P_1(x)$ analytisch. Die Lösung dient Ihnen im weiteren Verlauf als Referenz.\n",
    "2. Schreiben Sie ein Programm (in C oder in Python), das das Integral $P_1(x)$ numerisch über eine Stufenfunktion approximiert. Teilen Sie hierfür das Integrationsintervall $[0,x]$ in $N$ Teilintervalle ein und nähern Sie die Fläche unter der Funktion dann mit Rechtecken der Teilintervallbreite an. Durch Summieren aller Rechteckflächen erhalten Sie die gesuchte Lösung des Integrals.\n",
    "3. Berechnen Sie mit Ihrem Programm für verschiedene $x$ und $N$ die Werte des Integrals. Vergleichen Sie Ihre Numerik mit der analytischen Lösung. Mit steigendem $x$ erwarten Sie zunehmend ungenaue Werte, während Sie mit steigendem $N$ genauere Lösungen beobachten sollten.\n"
   ]
  },
  {
   "cell_type": "markdown",
   "metadata": {},
   "source": [
    "### Tutorial - Aufgabe 1.2"
   ]
  },
  {
   "cell_type": "markdown",
   "metadata": {},
   "source": [
    "Mit diesem Juypter Notebook soll eine Einführung in die Programmiersprache Python gegeben werden. Zu Beginn eines Notebooks oder Python-Programms gibt man an, welche Module verwendet werden sollen. Module erweitern die Funktionalität von Python. *numpy* ist die Standard-Bibliothek in Python, um numerische Rechnungen schnell durchzuführen. Mit folgendem Befehl importieren wir dieses Modul. Der Befehl *as* bedeutet, dass wir das Modul nur mit dem Namen *np* ansprechen können.\n",
    "Zum Ausführen der nächsten Zelle muss man\n",
    "1. auf die Zelle klicken; sie erhält auf der linken Seite einen grünen Balken.\n",
    "2. Mit Strg+Enter wird die Zelle ausgeführt. Der Balken wird blau.\n",
    "3. Mit Umschalttaste+Enter wird die Zelle auch ausgeführt und der Balken wird blau, gleichzeitig wird die nächste Zelle aktiviert."
   ]
  },
  {
   "cell_type": "code",
   "execution_count": null,
   "metadata": {},
   "outputs": [],
   "source": [
    "import numpy as np"
   ]
  },
  {
   "cell_type": "markdown",
   "metadata": {},
   "source": [
    "In der nächsten Zelle deklarieren wir einige allgemeine notwenidge Variablen, die wir für die Integration benötigen. Mit der Raute (`#`) kann man Kommentare in den Quellcode einfügen."
   ]
  },
  {
   "cell_type": "code",
   "execution_count": null,
   "metadata": {},
   "outputs": [],
   "source": [
    "rand_links = 0.0 # Integrationsraender\n",
    "rand_rechts = 2.0\n",
    "N = 100 # Anzahl der Stuetzstellen\n",
    "summe = 0.0"
   ]
  },
  {
   "cell_type": "markdown",
   "metadata": {},
   "source": [
    "**Exkurs Datentypen**: Auch wenn man bei der Variablenzuweisung keine expliziten Datentypen angibt, so haben die obigen Variablen unterschiedliche Datentypen. Mit dem Befehl `type(variable)` kann man den Datentyp einer Variablen herausfinden."
   ]
  },
  {
   "cell_type": "code",
   "execution_count": null,
   "metadata": {},
   "outputs": [],
   "source": [
    "type(N)"
   ]
  },
  {
   "cell_type": "markdown",
   "metadata": {},
   "source": [
    "*int* steht für Integer, die ganzen Zahlen. Ein weiterer wichtiger Datentyp zur Darstellung von Zahlen ist *float* für floating point number, zu Deutsch Fließkommazahl. Damit lassen sich beliebige Dezimalzahlen mit recht hoher Genauigkeit darstellen."
   ]
  },
  {
   "cell_type": "code",
   "execution_count": null,
   "metadata": {},
   "outputs": [],
   "source": [
    "type(rand_links)"
   ]
  },
  {
   "cell_type": "markdown",
   "metadata": {},
   "source": [
    "**Exkurs Ausgabe**: Das Ergebnis der letzten Zeile in einem Notebook wird gewöhnlicherweise als Text ausgegeben. Man kann aber auch mit dem `print`-Statement Text ausgeben."
   ]
  },
  {
   "cell_type": "code",
   "execution_count": null,
   "metadata": {},
   "outputs": [],
   "source": [
    "type(rand_rechts) # diese Zeile erzeugt keinen Output\n",
    "print(type(rand_rechts)) # erzeugt: <class 'float'>\n",
    "type(summe) # erzeugt: float"
   ]
  },
  {
   "cell_type": "markdown",
   "metadata": {},
   "source": [
    "Nun berechnen wir die Breite der Teilintervalle. Wie verhält sich die Division zwischen ganzen Zahlen und Gleitkommazahlen in Python? Gibt es hier ggf. eine versteckte Fehlerquelle?"
   ]
  },
  {
   "cell_type": "code",
   "execution_count": null,
   "metadata": {},
   "outputs": [],
   "source": [
    "delta_y = (rand_rechts - rand_links) / N"
   ]
  },
  {
   "cell_type": "markdown",
   "metadata": {},
   "source": [
    "Schreiben Sie eine `for`-Schleife für die $N$ Teilintervalle. Der Code innerhalb der Einrückung der `for`-Schleife wird exakt $N$ mal ausgeführt, wobei die Variable `k` den aktuelle Schleifendurchlauf nummeriert:\n",
    "```python\n",
    "for k in range(N):\n",
    "```\n",
    "Berechnen Sie innerhalb der `for`-Schleife den linken Rand $y$ des gegenwärtigen Teilintervalls. Bestimmen sie außerdem den Wert $f(y)$ der Ableitung am linken Rand; dies sei die Näherung für die Höhe des Rechteckes. Das Produkt von Teilintervallbreite und Rechteckhöhe ist die Fläche im Teilintervall - summieren Sie diese auf die Akkumulatorvariable `summe`. Code der innerhalb einer Schleife ausgeführt wird, muss eingerückt werden. In Python werden normalerweise 4 Leerzeichen verwendet. Die meisten Editoren sind so eingestellt, dass das Drücken von Tab einfach 4 Leerzeichen einfügt."
   ]
  },
  {
   "cell_type": "code",
   "execution_count": null,
   "metadata": {},
   "outputs": [],
   "source": [
    "# summe = 0\n",
    "for k in range(N):\n",
    "    y = rand_links + k * delta_y\n",
    "    f = y*y - y\n",
    "    A = f * delta_y\n",
    "    summe += A"
   ]
  },
  {
   "cell_type": "markdown",
   "metadata": {},
   "source": [
    "Scheuen Sie nicht davor zurück, lokale Hilfsvariablen (wie hier `y`, `f` und `A`) zu benutzen und Rechnungen in logische Teilschritte zu unterteilen. Der Code wird dadurch übersichtlicher, verständlicher und leichter zu warten.\n",
    "\n",
    "Die meisten Editoren bieten die Möglichkeit eine vertikale Trennlinie rechts in der 80ten Zeichenspalte anzuzeigen. Wenn Ihr Code breiter als diese Grenze wird, versuchen Sie ihn neu zu strukturieren. In den meisten Fällen gibt es eine elegantere und übersichtlichere Weise Ihr Ziel zu erreichen!"
   ]
  },
  {
   "cell_type": "markdown",
   "metadata": {},
   "source": [
    "Nach der `for`-Schleife steht in `summe` der Wert des gesuchten Integrals. Sie können den Wert dann mit dem `print`-Befehl in die Konsole ausgeben lassen:"
   ]
  },
  {
   "cell_type": "code",
   "execution_count": null,
   "metadata": {},
   "outputs": [],
   "source": [
    "print(\"Integralwert: \", summe)"
   ]
  },
  {
   "cell_type": "markdown",
   "metadata": {},
   "source": [
    "Sie übergeben `print` einen String, also eine Zeichenkette, die dann auf die Konsole geschrieben wird. Entält der String nur einfachen Text, passiert nichts weiter als die Ausgabe dieses Strings. Der 2. Parameter zeigt hier aber an, dass der Inhalt der Variable `summe` nach der vorherigen Zeichenkette auf die Konsole geschrieben wird. Falls nötig, `\\n` löst einen Zeilenumbruch aus (siehe Tutorials:Aufgabe 2:Schritt7).\n",
    "\n",
    "** Exkurs Fehlerquellen**: Führen Sie die Zelle mit der `for`-Schleife noch einmal aus, und geben Sie den Wert der Summe nochmal aus. Warum ändert er sich und wie lässt sich das verhindern? Dieses Verhalten von Programmen nennt man Side Effect und stellt eine erhebliche Fehlerquelle dar. Wir können diese Fehlerquelle minimieren, indem wir die Variable `summe` erst kurz vor der `for`-Schleife mit $0$ initialisieren (siehe Kommentar oben)."
   ]
  },
  {
   "cell_type": "markdown",
   "metadata": {},
   "source": [
    "Bearbeiten Sie nun noch Aufgaben 1.1 und 1.3."
   ]
  },
  {
   "cell_type": "markdown",
   "metadata": {},
   "source": [
    "### Aufgabenlösung 1.3"
   ]
  },
  {
   "cell_type": "code",
   "execution_count": null,
   "metadata": {},
   "outputs": [],
   "source": []
  },
  {
   "cell_type": "code",
   "execution_count": null,
   "metadata": {},
   "outputs": [],
   "source": []
  },
  {
   "cell_type": "code",
   "execution_count": null,
   "metadata": {},
   "outputs": [],
   "source": []
  },
  {
   "cell_type": "markdown",
   "metadata": {},
   "source": [
    "## Aufgabe 2: *Modularisierung des Programmes*\n",
    "\n",
    "Hinweis: Diese Aufgabe hat ein Tutorial.\n",
    "Ziel dieser Aufgabe ist es, Ihr Programm modularer zu gestalten und den Integrator von der Ableitung $p_1(y)$ logisch zu trennen.\n",
    "\n",
    "1. Schreiben Sie eine Funktion *(Variante für Programmierung in Python)*\n",
    "```python\n",
    "def p1(y):\n",
    "```\n",
    "die den Wert der Ableitung $p_1(y)$ berechnet und zurückgibt.\n",
    "2. Verkapseln Sie Ihre Integration aus der ersten Aufgabe in eine Funktion der Form *(Variante für Programmierung in Python)*\n",
    "```python\n",
    "def integrate(left, right, N, integrand):\n",
    "```\n",
    "so dass ihr die Intervallgrenzen, die Auflösung (d.h., die Anzahl der Teilintervalle N) und eine Ableitungsfunktion (Integrand) als Parameter übergeben werden. Das Integral $P_1(2)$ kann dann z.B. wie folgt berechnet werden:\n",
    "```python\n",
    "integrate(0, 2, 100, p1)\n",
    "```\n",
    "3. Berechnen Sie $P_1(2)$ für $N$ von 101 bis 107 . Tragen Sie die absolute Differenz zwischen der analytischen Lösung und der numerischen Approximation doppellogarithmisch gegen die die Anzahl der Stützstellen $N$ auf. Bestimmen Sie die Steigung der Geraden und erklären Sie den Zusammenhang zur Fehlerordnung.\n",
    "4. Schreiben Sie eine zweite Integrator-Funktion, die anstatt der Rechteckfunktionen Trapeze zur Näherung der Teilintervallflächen benutzt. Plotten Sie wieder die Abweichung des numerischen Integrals doppellogarithmisch gegen die Anzahl der Stützstellen $N$. Ist der Unterschied in der Konvergenzordnung beobachtbar?\n",
    "5. **Bonus**: Wie unterscheiden sich die beiden Integratoren für $P_1(1)$? Erklären Sie das Phänomen."
   ]
  },
  {
   "cell_type": "markdown",
   "metadata": {},
   "source": [
    "### Tutorial - Aufgabe 2"
   ]
  },
  {
   "cell_type": "markdown",
   "metadata": {},
   "source": [
    "1. Erstellen Sie eine neue Funktion:\n",
    "```python\n",
    "def p1(INPUT):\n",
    "    return INPUT*INPUT - INPUT\n",
    "```\n",
    "`p1` bezeichnet den Namen, unter der Sie die Funktion in Ihrem Programm aufrufen können. `INPUT` (in Klammern) bedeutet, dass die Funktion einen Parameter bekommt, welche innerhalb der Funktion den Namen `INPUT` erhält. Falls gewünscht können Sie der Variable einen anderen Namen geben, auch bereits anderswo verwendete Namen wie `y`.\n",
    "\n",
    "2. Ersetzen Sie in Ihrer `for`-Schleife die Zeile\n",
    "```python\n",
    "f = y*y - y\n",
    "```\n",
    "durch\n",
    "```python\n",
    "f = p1(y)\n",
    "```\n",
    "Die `for`-Schleife enthält jetzt nur noch Code, der die Integration selbst betrifft.\n",
    "\n",
    "3. Überprüfen Sie die Funktion Ihres Programmes. Das Verhalten sollte sich durch die Einführung von `p1` nicht verändert haben.\n",
    "\n",
    "4. Erstellen Sie eine neue Funktion und verschieben Sie Ihre Integration dort hin. Fügen Sie außerdem einen return-Befehl ein, um das Ergebnis der Integration zurückzugeben:\n",
    "```python\n",
    "def integrate(left, right, N, integrand):\n",
    "    summe = 0\n",
    "    delta_y = (rand_rechts - rand_links) / N\n",
    "    for k in range(N):\n",
    "        y = rand_links + k_delta_y\n",
    "        f = p1(y)\n",
    "        A = f * delta_y\n",
    "        summe += A\n",
    "    return summe\n",
    "```\n",
    "\n",
    "5. Die Variablen `rand_links` und `rand_rechts` existieren innerhalb der Funktion integrate nicht. Stattdessen sollen die übergebenen Parameter `left` und `right` die Grenzen der Integration vorgeben. Korrigieren Sie die Variablennamen in Ihrer integrate-Funktion.\n",
    "\n",
    "6. Der letzte Parameter der `integrate`-Funktion lautet `integrand`. Es wird hier keine Zahl übergeben, sondern eine ganze Funktion. Die übergebene Funktion wird innerhalb der `integrate`-Funktion `integrand` genannt und kann mit genau diesem Namen aufgerufen werden.\n",
    "Ersetzen Sie nun die Zeile\n",
    "```python\n",
    "f = p1(y)\n",
    "```\n",
    "durch\n",
    "```python\n",
    "f = integrand(y)\n",
    "```\n",
    "\n",
    "7. Wenden Sie außerhalb der Funktionen die integrate-Funktion auf die Funktion p1 an und geben Sie den Wert des Integrals in die Konsole aus:\n",
    "```python\n",
    "rand_links  = 0.0\n",
    "rand_rechts = 1.0\n",
    "N = 100\n",
    "ergebnis = integrate(rand_links, rand_rechts, N, p1)\n",
    "print(\"Integralwert: {}\\n\".format(ergebnis))\n",
    "```\n",
    "\n",
    "Sie können nun den Rest der Aufgaben bearbeiten. Einen kurzen Überblick über das Plotten mit Python finden Sie am Ende dieses Dokumentes."
   ]
  },
  {
   "cell_type": "markdown",
   "metadata": {},
   "source": [
    "### Aufgabenlösung 2"
   ]
  },
  {
   "cell_type": "code",
   "execution_count": null,
   "metadata": {},
   "outputs": [],
   "source": []
  },
  {
   "cell_type": "code",
   "execution_count": null,
   "metadata": {},
   "outputs": [],
   "source": []
  },
  {
   "cell_type": "code",
   "execution_count": null,
   "metadata": {},
   "outputs": [],
   "source": []
  },
  {
   "cell_type": "markdown",
   "metadata": {},
   "source": [
    "## Aufgabe 3: *Berechnung der Fehlerfunktion (Studienleistung)*\n",
    "\n",
    "Hinweis: Der Code dieser Aufgabe wird auf dem nächsten Arbeitsblatt wiederverwendet.\n",
    "\n",
    "Die Fehlerfunktion $$erf(x) = \\frac{2}{\\sqrt{\\pi}} \\int_0^x e^{-y^2} dy$$ ist ein Beispiel für eine Funktion, die nicht in geschlossener Form analytisch dargestellt werden kann. Numerische Integration bietet sich jedoch gut an, wenngleich auch schnellere numerische Approximationen verfügbar sind.\n",
    "\n",
    "Ziel dieser Aufgabe ist die Berechnung und die grafische Darstellung der Fehlerfunktion. Im Folgenden sind die Code-Snippets für Programmierung in Python wiedergegeben.\n",
    "\n",
    "1. Schreiben Sie eine Funktion *(Variante für Programmierung in Python)*\n",
    "```python\n",
    "def myErf(x, delta_x):\n",
    "```\n",
    "die den Wert der Fehlerfunktion zurückgibt. Nutzen Sie dafür Ihren Integrator aus der vorherigen Aufgabe und übergeben ihm einen geeigneten Integranden. Der Parameter `delta_x` sei der Abstand der Stützstellen. Berechnen Sie mit ihm die Anzahl $N$ der notwendigen Teilintervalle.\n",
    "2. Berechnen Sie `myErf(x,1e-4)` an 100 gleichverteilten Positionen im Interval $x = [-2,2]$ und speichern Sie die Werte in eine Datei. Benutzen Sie hierfür eine einfache `for`-Schleife um `myErf` wiederholt mit verschiedenen Parameterwerten aufzurufen. Eine kurze Anleitung zum Schreiben von Dateien finden Sie am Ende dieses Dokuments.\n",
    "3. Stellen Sie die berechnete Funktion grafisch dar. Eine kurze Anleitung zum Plotten mit matplotlib finden Sie am Ende des Dokumentes."
   ]
  },
  {
   "cell_type": "markdown",
   "metadata": {},
   "source": [
    "### Aufgabenlösung 3"
   ]
  },
  {
   "cell_type": "code",
   "execution_count": null,
   "metadata": {},
   "outputs": [],
   "source": []
  },
  {
   "cell_type": "code",
   "execution_count": null,
   "metadata": {},
   "outputs": [],
   "source": []
  },
  {
   "cell_type": "code",
   "execution_count": null,
   "metadata": {},
   "outputs": [],
   "source": []
  },
  {
   "cell_type": "markdown",
   "metadata": {},
   "source": [
    "## Aufgabe 4: *Diskrete vs. `Fast` Fourier-Transformation*\n",
    "\n",
    "Wir betrachten eine Schwingung, die folgende Form besitzt:\n",
    "\n",
    "$$A(t) = A_0 [sin((\\nu_0 + \\varepsilon)t) + sin((\\nu_0 - \\varepsilon)t)]$$\n",
    "\n",
    "Der Einfachheit halber wählen wir $\\nu_0 = 1$. Durch eine Fouriertransformation\n",
    "\n",
    "$$S(k) = \\frac{1}{T_{max}} \\int_0^{T_{max}} A(t) e^{-\\frac{2\\pi ikt}{T_{max}}} dt$$\n",
    "\n",
    "können die Frequenzen der Schwingung bestimmt werden. Wie Sie sehen, muss man dazu ein Fourierintegral berechnen, was hier auf numerischem Wege geschehen soll, was zur sogenannten _Diskreten Fouriertransformation (DFT)_ führt.\n",
    "\n",
    "1. Plotten Sie $A(t)$ für verschiedene Werte von $\\varepsilon \\in \\{0,0.001,0.01,0.1,1\\}$.  \n",
    "*Hinweise*: Für $\\varepsilon > 0$ sollten Sie eine Schwebung sehen. Plotten Sie die Kurve für Zeiten $t \\geqslant 0$ und wählen Sie den dargestellten Bereich so, dass Sie die Schwebung sehen können. Zum Plotten müssen Sie auch eine geeignete Diskretisierung der Zeitachse $dt$ wählen. Achten Sie darauf, dass Sie ausreichend viele Stützstellen wählen, so dass die Kurve \"glatt\" erscheint. Achten Sie aber auch darauf, dass Sie $dt$ nicht zu klein wählen, sonst müssen Sie unnötig große Datenmengen verarbeiten.  \n",
    "\n",
    "2. Implementieren Sie eine DFT, die eine näherungsweise Berechnung des obigen Fourierintegrals auf dem Computer erlaubt. Für N Stützstellen ist diese durch $$S(k) = \\frac{1}{N}\\sum_{n=0}^{N-1} A(t_n) e^{-2\\pi i \\frac{n}{N}k}, n \\in \\mathbb{N} , k = 0, 1, 2,..., N - 1$$ gegeben. Dazu müssen Sie zunächst ein geeignetes Zeitintervall $[t = 0, T_{max}]$ wählen. Dann ist $t_n = n\\frac{T_{max}}{N} = ndt$, da $dt = \\frac{T_{max}}{N}$ . Können Sie die Frequenzen, die in $A(t)$ auftreten, für die verschiedenen Werte von $\\varepsilon$ identifizieren? Was müssen Sie ggf. dafür noch tun?\n",
    "3. __Bonus__: Führen Sie die selbe Analyse mithilfe einer 'FFT'-Implementation aus einer Bibliothek durch. Wie vergleichen sich die Laufzeiten Ihrer Implementation der DFT und der FFT?\n",
    "\n",
    "*Hinweis*: In Python können Sie die FFT der 'numpy'-Bibliothek nutzen."
   ]
  },
  {
   "cell_type": "markdown",
   "metadata": {},
   "source": [
    "### Aufgabenlösung 4"
   ]
  },
  {
   "cell_type": "code",
   "execution_count": null,
   "metadata": {},
   "outputs": [],
   "source": []
  },
  {
   "cell_type": "code",
   "execution_count": null,
   "metadata": {},
   "outputs": [],
   "source": []
  },
  {
   "cell_type": "code",
   "execution_count": null,
   "metadata": {},
   "outputs": [],
   "source": []
  },
  {
   "cell_type": "markdown",
   "metadata": {},
   "source": [
    "# Selsttest\n",
    "\n",
    "* Was ist das grundlegende Vorgehen beim Programmieren? Welche Werkzeuge benötige ich, und wie kann ich feststellen, ob diese vorhanden sind?\n",
    "* Wie stelle ich numerische Ergebnisse, die ich mit Hilfe eines selbst geschriebenen Programms erhalten habe, graphisch dar?\n",
    "* Was sind Grundelemente eines C-Codes? Darf ich Variablen an beliebiger Stelle deklarieren? Wie sieht es im Vergleich dazu in Python aus?\n",
    "* Worauf muss ich achten, wenn ich numerisch das Integral einer Funktion bestimme?"
   ]
  },
  {
   "cell_type": "markdown",
   "metadata": {},
   "source": [
    "# Tipps"
   ]
  },
  {
   "cell_type": "markdown",
   "metadata": {},
   "source": [
    "## Dateiausgabe in Python\n",
    "\n",
    "Hier kann die übliche `print`-Funktion genutzt werden, allerdings muss (wie bei C) ein Datei-Handler geöffnet werden, um die Ausgabe in diese Datei umzulenken. Eine mögliche Syntax zum Beispiel ist dann:\n",
    "\n",
    "```python\n",
    "myfile=open(\"/home/salvatore/data.csv\",\"w\")\n",
    "# Pfad zum eigenen home-directory setzen!\n",
    "\n",
    "x=1 # diese Werte muessten angepasst werden!\n",
    "y=1.5 # diese Werte muessten angepasst werden!\n",
    "\n",
    "for i in range(3):\n",
    "\tprint(x,y,i,sep=\",\",file=myfile)\n",
    "myfile.close()\n",
    "```"
   ]
  },
  {
   "cell_type": "markdown",
   "metadata": {},
   "source": [
    "## Plotten mit matplotlib\n",
    "\n",
    "`matplotlib` ist ein Pythonmodul zur Erstellung wissenschaftlicher Grafiken aus unterschiedlichsten Datensätzen.\n",
    "\n",
    "Daten werden häufig als CSV-Dateien (comma separated variables) gespeichert. Dabei werden Werte horizontal durch Kommas separiert und vertikal durch Zeilenumbrüche. Die x- y-Koordinaten einer Parabel könnten z.B. folgendermaßen in einer Textdatei abgespeichert sein:\n",
    "\n",
    "```\n",
    "    -2,4\n",
    "    -1,1\n",
    "    -0.5,0.25\n",
    "    0,0\n",
    "    0.5,0.25\n",
    "    1,1\n",
    "    2,4\n",
    "```\n",
    "\n",
    "Die erste Spalte stellt die x-Koordinate dar, die zweite Spalte die y-Koordinate. Wenn Sie eine solche Datei plotten möchten können Sie folgendermaßen vorgehen:\n",
    "\n",
    "1. Öffnen Sie ein Konsolenfenster und navigieren Sie zu Ihrer CSV. Geben Sie das Kommando `python3` (`python` wenn Sie WinPython verwenden) ein.\n",
    "2. Laden Sie `matplotlib` mit dem Befehl\n",
    "```python\n",
    "import matplotlib.pyplot as plt\n",
    "```\n",
    "Dadurch ist `matplotlib` unter dem Kürzel `plt` zu erreichen.\n",
    "3. Laden Sie `numpy` mit dem Befehl\n",
    "```python\n",
    "import numpy as np\n",
    "```\n",
    "`numpy` stellt effiziente und performante Matrizen und Arrays für Python bereit und ist die Basis unzähliger Numerik-Bibliotheken unter Python. Für mehr Informationen besuchen Sie https://www.scipy.org/.\n",
    "4. Laden Sie die Daten aus der CSV-Datei:\n",
    "```python\n",
    "myData = np.loadtxt(\"data.csv\", delimiter=\",\")\n",
    "```\n",
    "5. Im Objekt `myData` befinden sich jetzt Ihre numerischen Werte. Wie in C können Sie auf einen Array-Eintrag mit eckigen Klammern zugreifen. Die Koordinaten werden aber durch ein Komma getrennt, also z.B. `myData[6,2]`.\n",
    "\n",
    "In `numpy` können Sie auch auf ganze Spalten oder Zeilen auf einmal zugreifen, indem Sie mit einem Doppelpunkt indizieren. Der Befehl `myData[3,:]` liefert z.B. die gesamte vierte Zeile als 1D-Array zurück.\n",
    "\n",
    "Um die zweite Spalte ihrer CSV gegen die erste Spalte zu plotten, benutzen Sie folgenden Befehl:\n",
    "```python\n",
    "  plt.plot(myData[:,0], myData[:,1])\n",
    "  plt.show()\n",
    "```\n",
    "Sie können doppellogarithmische Plots mit\n",
    "```python\n",
    "  plt.loglog(myData[:,0], myData[:,1])\n",
    "  plt.show()\n",
    "```\n",
    "erstellen. Sie beenden Python mit dem Befehl `quit()`.\n",
    "\n",
    "Wenn Sie mehr über `matplotlib` lernen möchten, finden Sie unter https://matplotlib.org umfangreiche Dokumentation und viele Beispielgrafiken mit Code."
   ]
  },
  {
   "cell_type": "code",
   "execution_count": null,
   "metadata": {},
   "outputs": [],
   "source": []
  }
 ],
 "metadata": {
  "kernelspec": {
   "display_name": "Python 3",
   "language": "python",
   "name": "python3"
  },
  "language_info": {
   "codemirror_mode": {
    "name": "ipython",
    "version": 3
   },
   "file_extension": ".py",
   "mimetype": "text/x-python",
   "name": "python",
   "nbconvert_exporter": "python",
   "pygments_lexer": "ipython3",
   "version": "3.7.6"
  }
 },
 "nbformat": 4,
 "nbformat_minor": 2
}
