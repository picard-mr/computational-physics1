{
 "cells": [
  {
   "cell_type": "markdown",
   "metadata": {},
   "source": [
    " <img align=\"right\" src=\"files/img/PhUniMa_Logo_sw.svg\">\n",
    "\n",
    "*Phillips-Universität Marburg* <br>\n",
    "*Fachbereich Physik*<br>\n",
    "*Priv.-Doz. Dr. S.R. Manmana, WiSe 2020/21*\n",
    "\n",
    "<h1><center>Übungen zur Vorlesung Computational Physics I<br><br>Blatt 4</center></h1>\n",
    "\n",
    "---"
   ]
  },
  {
   "cell_type": "markdown",
   "metadata": {},
   "source": [
    "# Lernziele dieses Übungsblattes\n",
    "\n",
    "\n",
    "* Mehrdimensionale, gekoppelte Systeme\n",
    "* Berechnung der Energie in mechanischen Systemen\n",
    "* Anwenden von Integratoren für DGL(-Systeme) aus Bibliotheken: “Gnu Scientific Library (GSL)” für C/C++ und SciPy für Python\n",
    "* Eigene Implementation von grundlegenden Algorithmen zur Lösung von DGL (-Systemen): explizites Euler-Verfahren und Runge-Kutta 2. Ordnung (RK2)\n",
    "* Vergleich von Konvergenzordnungen"
   ]
  },
  {
   "cell_type": "markdown",
   "metadata": {},
   "source": [
    "# Aufgabenmodus\n",
    "\n",
    "Die Aufgabe 11 dieses Arbeitsblattes verfügt über ein Tutorial, das Sie am Ende des Dokumentes finden. Abhängig von Ihren Vorkenntnissen können Sie die Aufgabe entweder eigenständig bearbeiten, oder dem dazugehörigen Tutorial folgen.\n",
    "\n",
    "Sie sollten die weiteren Aufgaben mit Ihren bisherigen Kenntnissen bearbeiten können. Dafür fallen die Aufgabenstellungen stellenweise etwas feinschrittiger aus."
   ]
  },
  {
   "cell_type": "markdown",
   "metadata": {},
   "source": [
    "# Studienleistung\n",
    "\n",
    "Die Bearbeitung von Aufgabe 14 ist die zweite von vier unbenoteten Studienleistungen. Reichen Sie Ihre Bearbeitung (Quellcode und aussagekräftige Plots) bis zum 15. Januar per Email bei mir ein.\n",
    "\n",
    "Verpacken Sie bitte Ihre Quelldateien, ggf. passende makefile und aussagekräftige, beschriftete Plots (PNG-Dateien) in einem ZIP- oder Tarball-Archiv, um Ihre Ordner/Projektstruktur zu erhalten. Ihnen wird die Bearbeitung testiert, wenn die Aufgabe hinreichend bearbeitet wurde. Dabei bleibt es Ihnen überlassen, ob Sie den Code in Python oder in C/C++ implementieren. Wenn Sie Python benutzen wollen, empfehle ich Ihnen, ein Jupyter-Notebook zu erstellen und dieses einzureichen. Ggf. können Sie die begleitenden Diskussion auch im Latex-Stil im Notebook aufarbeiten. Alternativ können Sie ein begleitendes pdf-Dokument mit weiterführenden Diskussionen mit einreichen, falls Sie nicht die gesamten Diskussionen im Notebook schreiben wollen."
   ]
  },
  {
   "cell_type": "markdown",
   "metadata": {},
   "source": [
    "# Übungsaufgaben"
   ]
  },
  {
   "cell_type": "markdown",
   "metadata": {},
   "source": [
    "## Aufgabe 11: *Gekoppelte Pendel mit GSL bzw. SciPy (Tutorial)*\n",
    "\n",
    "\n",
    "*Hinweis*: Diese Aufgabe verfügt über ein Tutorial. Sie benötigen diese Pendelsimulation und Ihre Umsetzung auch für die Bearbeitung weiterer Aufgaben.\n",
    "\n",
    "Sie beschäftigen sich nun mit einem einfachen System gekoppelter Pendelmassen. Anders als das SEIR-System ist dies ein System mit hoher Dimensionalität, weswegen ein strukturierter Ansatz zur Programmierung unablässig ist.\n",
    "\n",
    "$N = 30$ Kugeln der Masse $m = 1$kg starten in einem Abstand von $L_0 = 1$m zueinander und sind mit Federn der Härte $k = 100$ N/m miteinander verbunden. Die Ruhelänge der Federn sei ebenfalls $L_0$. Die erste Feder ist außerdem mit einer Feder der Ruhelänge $0$m an den Ursprung gebunden.\n",
    "\n",
    "Zum Zeitpunkt $t_0$ erhält das erste Pendel einen Stoß, der es auf eine Geschwindigkeit von 20m/s beschleunigt. Daraufhin bewegt sich eine Stoßwelle durch das System, die am freien Ende reflektiert wird. Trägt man die Positionen der Pendel gegen die Zeit auf, so ergibt sich folgender Graph:\n",
    "\n",
    "<img src=\"files/img/Aufgabe11.png\" style=\"width: 90vw;\">\n",
    "\n",
    "In dieser Aufgabe werden Sie zunächst das System mit einem Integrator aus einer Bibliothek lösen. Bei Programmierung in C/C++ werden Sie eine Funktion aus der GSL Bibliothek (GNU Scientific Library) nehmen, bei Programmierung in Python eine Funktion aus SciPy. Sowohl GSL als auch scipy stellen eine breite Palette an numerischen Funktionen bereit, darunter auch Integratoren für gewöhnliche Differentialgleichungen. Schauen Sie ruhig in die entsprechenden Websites/Dokus um einen Überblick über die zur Verfügung stehenden Verfahren und die entsprechende Spanne von Problemen, die mithilfe dieser Bibliotheken bearbeitet werden können, zu erhalten.\n",
    "\n",
    "**Hinweis**: Wenn Sie GSL auf Ihrem eigenen Rechner verwenden möchten, müssen Sie zunächst die notwendigen Pakete installieren."
   ]
  },
  {
   "cell_type": "markdown",
   "metadata": {},
   "source": [
    "1. Machen Sie sich klar, wie das Differentialgleichungssystem der Pendel aufgebaut ist. Der Zustand des gesamten Systems wird durch den Vektor y beschrieben, der aus den Positionen und Geschwindigkeit der einzelnen Pendel aufgebaut ist:\n",
    "$$\\dot{\\vec{y}}=\\vec{F}(\\vec{y}) \\quad\\quad\\quad  \\vec{y} = \\begin{pmatrix}x_1\\\\x_2\\\\\\vdots\\\\v_1\\\\v_2\\\\\\vdots\\end{pmatrix} \\quad\\quad\\quad \\vec{F}(\\vec{y}) = \\begin{pmatrix}v_1\\\\v_2\\\\\\vdots\\\\F_1/m\\\\F_2/m\\\\\\vdots\\end{pmatrix}$$\n",
    "    Dabei sind $F_n$ die Federkräfte, die auf das entsprechende Pendel wirken."
   ]
  },
  {
   "cell_type": "markdown",
   "metadata": {},
   "source": [
    "2. Laden Sie von Ilias das Jupyter-Notebook `Pendel_scipy_Vorlage.ipynb` herunter und machen Sie sich mit der Struktur vertraut."
   ]
  },
  {
   "cell_type": "markdown",
   "metadata": {},
   "source": [
    "3. Definieren Sie im Kopfbereich die physikalischen Konstanten."
   ]
  },
  {
   "cell_type": "markdown",
   "metadata": {},
   "source": [
    "4. Schreiben Sie die Funktion für $F(y)$ in folgender Form \n",
    "```python\n",
    "def pendulumsODE(t, y, f, params)\n",
    "    pass\n",
    "```\n",
    "    Der Rahmen der Funktion ist bereits in `Pendel_scipy_Vorlage.ipynb` vorgegeben. Hierbei sind `t` die aktuelle Systemzeit und `y` ist ein Array mit dem Systemzustand $y$.\n",
    "\n",
    "    Benutzen Sie `y` um alle auftretenden Ableitungen zu berechnen und schreiben Sie dann die korrekten Terme in `f`.\n",
    "\n",
    "    **Wichtig**: Schreiben Sie `pendulumsODE` so, dass die Funktion auch für ein einzelnes Pendel mit $N = 1$ funktioniert!"
   ]
  },
  {
   "cell_type": "markdown",
   "metadata": {},
   "source": [
    "5. Gehen Sie durch das gesamte Jupyter-Notebook und korrigieren Sie die Ausdrücke mit `???`. Folgen Sie ggf. den Anweisungen und Fragen in den Kommentaren, um alles korrekt zu initialisieren und die Startbedingungen zu setzen."
   ]
  },
  {
   "cell_type": "markdown",
   "metadata": {},
   "source": [
    "6. Es wird die `scipy`-Funktion `solve_ivp` genutzt, die als Input die Funktion für $F_{(y)}$, das Zeitintervall, in dem die Lösung bestimmt werden soll, und der Vektor der Anfangszustände nimmt. Optional kann u.A. die Methode spezifiziert werden. Als Standard ist `method = ’RK45’` eingestellt, d.h. der Standard-Integrator ist eine Runge-Kutta-Methode 4. Ordnung (RK4; dieser wird genutzt, wenn Sie `method` nicht angeben). Da wir uns auch für die Konvergenzordnungen der verschiedenen Integratoren interessieren, soll hier zunächst ein Integrator niedrigerer Ordnung genutzt werden, d.h. ein Runge-Kutta-Verfahren 2.Ordnung, das durch `method = ’RK23’` aufgerufen wird.\n",
    "\n",
    "    Machen Sie sich mithilfe der angegebenen Websites (und ggf. auch weiterer Literatur) mit den Möglichkeiten und der Nutzungsweise von `solve_ivp` vertraut."
   ]
  },
  {
   "cell_type": "markdown",
   "metadata": {},
   "source": [
    "7. Lassen Sie die Simulation laufen."
   ]
  },
  {
   "cell_type": "markdown",
   "metadata": {},
   "source": [
    "8. Plotten Sie die Pendelpositionen gegen die Zeit und reproduzieren Sie den Graph aus der obigen Abbildung. Bei Programmierung in Python: Wenn Sie wollen, können Sie sich zusätzlich auch mit der `animation`-Funktionalität der `matplotlib`- Bibliothek vertraut machen und eine Animation der Pendelbewegungen erstellen."
   ]
  },
  {
   "cell_type": "markdown",
   "metadata": {},
   "source": [
    "9. Schreiben Sie die Funktion\n",
    "```python\n",
    "def pendulumsEnergy(y):\n",
    "    pass\n",
    "```\n",
    "    Sie finden die Deklaration unter `pendulumsODE` - erweitern Sie sie zu einer Definition. Die Funktion soll die Gesamtenergie des Pendelsystems berechnen. Dazu erhält sie den Zustandsvektor `y`.\n",
    "    \n",
    "    Denken Sie an alle Federspann-Energien (auch die einzelne Feder am Ursprung) und die kinetischen Energien der Pendel."
   ]
  },
  {
   "cell_type": "markdown",
   "metadata": {},
   "source": [
    "10. Geben Sie Zeit `t` und Systemenergie CSV-formatiert in einer Datei `energy_file` aus."
   ]
  },
  {
   "cell_type": "markdown",
   "metadata": {},
   "source": [
    "11. Simulieren Sie das System und plotten Sie den Verlauf der Energie. Führen Sie die Berechnung mit RK2 und RK4 durch und vergleichen Sie das Verhalten der Energie als Funktion der Zeit. Welches Ergebnis erwarten Sie, und wird diese Erwartung erfüllt? Falls nicht, wie groß ist jeweils die Abweichung am Ende der Simulation?\n",
    "\n",
    "    **Hinweis**: Der RK4-Algorithmus sollte für kleine Zeitschritte eine hinreichend stabile Energie ausgeben."
   ]
  },
  {
   "cell_type": "markdown",
   "metadata": {},
   "source": [
    "### Tutorial - Aufgabe 11"
   ]
  },
  {
   "cell_type": "markdown",
   "metadata": {},
   "source": [
    "1. Machen Sie sich mit der Aufgabenstellung vertraut. Wie in Punkt 1.) angegeben, werden der Systemzustand $\\vec{y}$ und die Zeitableitung $\\vec{F}(\\vec{y})$ als Vektoren aufgefasst.\n",
    "    Wir verwenden hier die Konvention, dass $\\vec{y}$ so aufgebaut ist, dass in den ersten $N$ Einträgen die Positionen der $N$ Pendel stehen und danach die $N$ Geschwindigkeiten folgen. Damit ist das physikalische System zu einem Zeitpunkt vollständig durch $\\vec{y}$ charakterisiert."
   ]
  },
  {
   "cell_type": "markdown",
   "metadata": {},
   "source": [
    "2. Laden Sie die Vorlage wie in 2) angegeben runter und bearbeiten Sie dann Aufgabe 3) der Übung."
   ]
  },
  {
   "cell_type": "markdown",
   "metadata": {},
   "source": [
    "3. Analysieren Sie die vier Parameter der gesuchten Funktion `pendulumsODE`. Innerhalb der Funktion stehen Ihnen die Zeit `t` und der Zustandsvektor `y` zur Verfügung, um die Kräfte zu berechnen. Außerdem natürlich alle globalen Variablen. Die ”Kräfte”(bzw. Ableitungen) sollen dann in das Array `f` geschrieben werden. Wir ignorieren hier das Argument `params`. Da die Kräfte nicht explizit von der Zeit abhängen, werden Sie auch `t` nicht gebrauchen müssen. Da Sie später ggf. auch DGL mit zeitabhängigen Kräften bearbeiten wollen, empfiehlt es sich den noch den Zeitparameter an dieser Stelle schon einzuplanen und mit zu übergeben."
   ]
  },
  {
   "cell_type": "markdown",
   "metadata": {},
   "source": [
    "4. Schreiben Sie zunächst eine Null in alle Einträge von `f`:"
   ]
  },
  {
   "cell_type": "code",
   "execution_count": null,
   "metadata": {},
   "outputs": [],
   "source": [
    "f[:] = 0"
   ]
  },
  {
   "cell_type": "markdown",
   "metadata": {},
   "source": [
    "5. Die Ableitungen der Pendelpositionen sind jeweils ihre Geschwindigkeit. Schreiben Sie also in die ersten `N` Einträge von `f` die Geschwindigkeiten:"
   ]
  },
  {
   "cell_type": "code",
   "execution_count": null,
   "metadata": {},
   "outputs": [],
   "source": [
    "f[0:N-1] += y[N:]"
   ]
  },
  {
   "cell_type": "markdown",
   "metadata": {},
   "source": [
    "6. Nun zu den Ableitungen der Geschwindigkeiten, gegeben durch die Pendelkräfte und die Pendelmasse. Das erste Pendel ist mit einer Feder an den Ursprung gekoppelt. Berechnen Sie die resultierende Kraft und addieren Sie sie auf die Ableitung der ersten Geschwindigkeit auf:"
   ]
  },
  {
   "cell_type": "code",
   "execution_count": null,
   "metadata": {},
   "outputs": [],
   "source": [
    "f[N] += -k*y[0]/mass"
   ]
  },
  {
   "cell_type": "markdown",
   "metadata": {},
   "source": [
    "7. Als letztes müssen noch die Federn zwischen den Pendeln berücksichtigt werden. Gehen Sie mit einer `for`-Schleife durch alle $N - 1$ Federn durch. Berechnen Sie ihre tatsächliche Länge, die resultierende Kraft basierend auf der Ruhelänge und addieren Sie die Kraft mit richtigem Vorzeichen auf die entsprechenden Ableitungen in `f`. Achten Sie unbedingt darauf, dass die gesamte `pendulumsODE`-Funktion auch für ein Einzelpendel $N = 1$ funktioniert!"
   ]
  },
  {
   "cell_type": "markdown",
   "metadata": {},
   "source": [
    "8. Bearbeiten Sie den Rest der Aufgabe, angefangen bei 5)."
   ]
  },
  {
   "cell_type": "markdown",
   "metadata": {},
   "source": [
    "### Aufgabenlösung 11"
   ]
  },
  {
   "cell_type": "code",
   "execution_count": null,
   "metadata": {},
   "outputs": [],
   "source": []
  },
  {
   "cell_type": "code",
   "execution_count": null,
   "metadata": {},
   "outputs": [],
   "source": []
  },
  {
   "cell_type": "code",
   "execution_count": null,
   "metadata": {},
   "outputs": [],
   "source": []
  },
  {
   "cell_type": "markdown",
   "metadata": {},
   "source": [
    "## Aufgabe 12: *Euler-Integration (Pendel)*"
   ]
  },
  {
   "cell_type": "markdown",
   "metadata": {},
   "source": [
    "**Hinweis**: Sie benötigen für diese Pendelsimulation Ihre Umsetzung von der vorherigen Übungsaufgabe.\n",
    "\n",
    "Nachdem Sie die Pendel-Simulation in Aufgabe 11 mit einer vorgefertigten _Blackbox_ durchgeführt haben, werden Sie nun einen eigenen Simulationsalgorithmus schreiben. Ziel ist es, die Funktion `solve_ivp` durch eine eigene Schritt-Funktion `eulerStep` zu ersetzen. Einen Euler-Algorithmus haben Sie auch schon bei der Implementation der SEIR-Simulation implementiert, aber hier soll explizit diese Funktion für das Lösen hochdimensionaler Probleme (wie sie z.B. in diesem Blatt behandelt werden) implementiert werden.\n",
    "\n",
    "(*Bemerkung*: Sie haben gesehen, dass das Anwenden von Bibliotheksfunktionen wie z.B. in der GSL ggf. viel Verwaltungsfunktionalität beinhaltet, z.B. in Form der Funktion `gsl_odeiv2_step_alloc` oder den Stukturen `gsl_odeiv2_system` und `gsl_odeiv2_step`. Das müssen Sie hier nicht berücksichtigen, Sie sollen nur eine einzelne Funktion schreiben.)\n",
    "\n",
    "<img src=\"files/img/Aufgabe12-1.png\" style=\"width: 65vw;\">\n",
    "\n",
    "_Skizze zur Visualisierung des Vorgehens bei der Implementation der Funktion `eulerStep`._"
   ]
  },
  {
   "cell_type": "markdown",
   "metadata": {},
   "source": [
    "1. Fügen Sie Ihrer Numerik-Bibliothek eine neue Funktion folgender Form hinzu:\n",
    "```python\n",
    "def eulerStep(t, delta_t, y, func, dimension, params)\n",
    "    pass\n",
    "```\n",
    "    `t` ist die aktuelle Zeit des Systems, `delta_t` ist die Größe des durchzuführenden Zeitschritts. `y` ist der aktuelle Zustandsvektor des Systems und hat die Größe `dimension`.\n",
    "\n",
    "    Die Funktion `func` ist die Systemfunktion, die die Ableitungen der Systemgrößen berechnet. `func` nimmt eine System-Zeit `t`, einen Systemzustand `y`, ein Zielarray `f` und eine Reihe von Parametern `params` entgegen und berechnet daraus die rechte Seite einer gewöhnlichen Differentialgleichung. Der Aufruf\n",
    "```python\n",
    "func(t, y, f, params)\n",
    "```\n",
    "    beschreibt also das Array `f` mit der zeitlichen Ableitung eines ODE-Systems. Ziehen Sie Ihre Implementierung von `pendulumsODE` zu Rate, falls Sie sich unsicher sind, wie ein konkretes Beispiel für `func` funktionieren könnte. `eulerStep` soll aber ein vollständiger Ersatz für den SciPy-Integrator sein, der auf beliebige Systeme angewandt werden kann! Die Grafik oben soll Ihnen verdeutlichen, wie der Integrationsalgorithmus und die (physikalische) Problemstellung voneinander getrennt werden."
   ]
  },
  {
   "cell_type": "markdown",
   "metadata": {},
   "source": [
    "2. Implementieren Sie in `eulerStep` den expliziten Euler-Algorithmus, um den Zustandsvektor `y` zu aktualisieren. Am Ende des Dokuments finden Sie auch noch ein paar Hinweise zum Aufbau der Funktion."
   ]
  },
  {
   "cell_type": "markdown",
   "metadata": {},
   "source": [
    "3. Ersetzen Sie in Ihrem Hauptprogramm den Befehl `solve_ivp` durch einen Aufruf von `eulerStep`. Benutzen Sie dafür den Befehl \n",
    "```python\n",
    "eulerStep(t, delta_t, y, pendulumsODE, dimension, params=[]) # Passen Sie die Eingabe des Arguments 'params' abhängig von Ihrer Implementierung an. Hier z.B. für eine Liste.\n",
    "```\n",
    "    Implementieren Sie, falls benötigt, noch eine Iterationsschleife über die Zeitvariable `t`.\n",
    "\n",
    "<img src=\"files/img/Aufgabe12-2.png\" style=\"width: 55vw;\">"
   ]
  },
  {
   "cell_type": "markdown",
   "metadata": {},
   "source": [
    "4. Plotten Sie die Energie und die Positionen der mit dem Euler-Verfahren durchgeführten Simulation. Sie sollten ein bedeutend schlechteres Verhalten erkennen. Sie müssen den Zeitschritt möglicherweise deutlich verkleinern um überhaupt sinnvolle Ergebnisse zu erhalten, da das Euler-Verfahren leichter zu Instabilitäten neigt als der in den Bibliotheks-Routinen angewandte Runge-Kutta-Algorithmus 4. Ordnung (RK4)."
   ]
  },
  {
   "cell_type": "markdown",
   "metadata": {},
   "source": [
    "### Tipps - Aufgabe 12 - Expliziter Euler-Algorithmus"
   ]
  },
  {
   "cell_type": "markdown",
   "metadata": {},
   "source": [
    "Der explizite Euler-Schritt aktualisiert den Zustandsvektor gemäß folgender Vorschrift:\n",
    "\n",
    "$$\\vec{y}_{i+1} = \\vec{y} + \\Delta t \\cdot \\vec{F}(\\vec{y}_i)$$"
   ]
  },
  {
   "cell_type": "markdown",
   "metadata": {},
   "source": [
    "1. Zunächst muss $\\vec{F}(\\vec{y}_i)$ mit der Funktion `func` berechnet werden.\n",
    "\n",
    "    Der Zustandsvektor `y`, sowie seine Ableitung `f` haben jeweils `dimension` Einträge."
   ]
  },
  {
   "cell_type": "markdown",
   "metadata": {},
   "source": [
    "2. Beschreiben Sie `f` mithilfe der Funktion `func`. Der Befehl hierfür ist bereits in der 1. Unteraufgabe angegeben, machen Sie sich aber klar, warum der Befehl funktioniert! Denken Sie daran, `params` an `func` weiterzureichen."
   ]
  },
  {
   "cell_type": "markdown",
   "metadata": {},
   "source": [
    "3. Aktualisieren Sie den Zustandsvektor gemäß der obigen Vorschrift. Das gelingt mit einer `for`-Schleife über alle Einträge von `y`."
   ]
  },
  {
   "cell_type": "markdown",
   "metadata": {},
   "source": [
    "4. Geben Sie den Speicher von `f` wieder frei.\n",
    "\n",
    "    **Hinweis**: In Python kann das kompliziert sein. Eine Möglichkeit ist, die del Funktion zu nutzen, um eine Variable vollkommen zu löschen, und ggf. danach einen “garbage collector” aufzurufen, z.B."
   ]
  },
  {
   "cell_type": "code",
   "execution_count": null,
   "metadata": {},
   "outputs": [],
   "source": [
    "import gc\n",
    "N = 1e7 # or some other large number\n",
    "my_array = [1.0] * N\n",
    "# Here I do something with my_array,\n",
    "# afterwards I am sure I don’t need it any more and want to\n",
    "# free the memory occupied by my_array:\n",
    "del my_array\n",
    "gc.collect()"
   ]
  },
  {
   "cell_type": "markdown",
   "metadata": {},
   "source": [
    "* Eine Diskussion zu diesem Thema können Sie auf stackoverflow.com [hier](https://stackoverflow.com/questions/1316767/how-can-i-explicitly-free-memory-in-python) finden."
   ]
  },
  {
   "cell_type": "markdown",
   "metadata": {},
   "source": [
    "### Aufgabenlösung 12"
   ]
  },
  {
   "cell_type": "code",
   "execution_count": null,
   "metadata": {},
   "outputs": [],
   "source": []
  },
  {
   "cell_type": "code",
   "execution_count": null,
   "metadata": {},
   "outputs": [],
   "source": []
  },
  {
   "cell_type": "code",
   "execution_count": null,
   "metadata": {},
   "outputs": [],
   "source": []
  },
  {
   "cell_type": "markdown",
   "metadata": {},
   "source": [
    "## Aufgabe 13: *Runge-Kutta 2. Ordnung (Pendel)*"
   ]
  },
  {
   "cell_type": "markdown",
   "metadata": {},
   "source": [
    "Sie haben nun den expliziten Euler-Algorithmus für beliebige Zustandsvektoren `y` in der Funktion `eulerStep` umgesetzt, der für das Pendelproblem in Sachen Performance und/oder Genauigkeit sehr schlecht abschneidet. Sie sollen daher im folgenden den dem Euler-Verfahren überlegenen zweistufigen Runge-Kutta-Algorithmus (RK2) implementieren:\n",
    "\n",
    "$$\\vec{k}_1 = \\vec{F}(t,\\vec{y})\\cdot\\Delta t \\\\\n",
    "\\vec{k}_2 = \\vec{F}(t+\\frac{\\Delta t}{2},\\vec{y}+\\frac{\\vec{k}_1}{2})\\cdot\\Delta t \\\\\n",
    "\\vec{y}_{i+1} = \\vec{y} + \\vec{k}_2$$\n",
    "\n",
    "Das Verfahren trägt in der Literatur oft den Namen “Mittelpunktsverfahren” oder “Modifiziertes Euler-Verfahren”."
   ]
  },
  {
   "cell_type": "markdown",
   "metadata": {},
   "source": [
    "1. Fügen Sie Ihrer Numerik-Bibliothek die neue Funktion (analoges bei Programmierung in Python)\n",
    "```python\n",
    "def RK2Step(t, delta_t, y, func, dimension, params)\n",
    "```\n",
    "    hinzu. `t` ist die aktuelle Zeit, `delta_t` ist die Schrittweite des durchzuführenden Zeitschritts. `y` ist der aktuelle Zustandsvektor des Systems und hat die Größe `dimension`. Die Funktion func ist die Systemfunktion, die die Ableitungen der Systemgrößen berechnet. Der Aufruf\n",
    "```python\n",
    "func(t, a, b, params)\n",
    "```\n",
    "    berechnet die Funktion $\\vec{F}(t,\\vec{a})$ und speichert das Ergebnis im Array `b` ab."
   ]
  },
  {
   "cell_type": "markdown",
   "metadata": {},
   "source": [
    "2. Legen Sie in `RK2Step` zunächst drei Felder `support`, `k1` und `k2` der jeweiligen Länge `dimension` an."
   ]
  },
  {
   "cell_type": "markdown",
   "metadata": {},
   "source": [
    "3. Berechnen Sie mit `func` den Inhalt von `k1`. Vergessen Sie nicht die Multiplikation mit $\\Delta t$."
   ]
  },
  {
   "cell_type": "markdown",
   "metadata": {},
   "source": [
    "4. Berechnen Sie die Position der nächsten Stützstelle und schreiben Sie das Ergebnis in `support`. Mit Stützstelle ist der Zustand (und die Zeit) am nächsten Auswertungspunkt gemeint:\n",
    "\n",
    "$$(t+\\frac{\\Delta t}{2}, \\vec{y}+\\frac{\\vec{k}_1}{2})$$\n",
    "    **Hinweis**: Da der Inhalt von `k1` in diesem speziellen Verfahren nicht mehr benötigt wird, könnten Sie Speicher sparen und die Stützstelle stattdessen in das Feld `k1` schreiben. Bei den meisten Runge-Kutta-Verfahren ist dies aber nicht möglich. Daher ist es empfehlenswert, aus Gründen der Übersichtlichkeit auch hier das Array support als Zwischenspeicher zu verwenden."
   ]
  },
  {
   "cell_type": "markdown",
   "metadata": {},
   "source": [
    "5. Berechnen Sie nun `k2` und aktualisieren Sie dann den Zustandsvektor `y` auf den neuen Zeitpunkt. Geben Sie unbedingt den durch die drei Arrays `support`, `k1` und `k2` belegten Speicher wieder frei!"
   ]
  },
  {
   "cell_type": "markdown",
   "metadata": {},
   "source": [
    "6. Ersetzen Sie den `eulerStep` durch `RK2Step`. Simulieren Sie das System und plotten Sie die Positionen der Pendel und die Gesamtenergie des Systems."
   ]
  },
  {
   "cell_type": "markdown",
   "metadata": {},
   "source": [
    "### Aufgabenlösung 13"
   ]
  },
  {
   "cell_type": "code",
   "execution_count": null,
   "metadata": {},
   "outputs": [],
   "source": []
  },
  {
   "cell_type": "code",
   "execution_count": null,
   "metadata": {},
   "outputs": [],
   "source": []
  },
  {
   "cell_type": "code",
   "execution_count": null,
   "metadata": {},
   "outputs": [],
   "source": []
  },
  {
   "cell_type": "markdown",
   "metadata": {},
   "source": [
    "## Aufgabe 14: *Konvergenzverhalten von Euler, RK2 und RK4 (Studienleistung)*"
   ]
  },
  {
   "cell_type": "markdown",
   "metadata": {},
   "source": [
    "**Hinweis**: Beachten Sie bitte die Hinweise zur Abgabe auf der ersten Seite.\n",
    "\n",
    "Bevor Sie einen numerischen Algorithmus zur Untersuchung von physikalischen Problemen einsetzen, ist es wichtig, zunächst seine korrekte Implementierung zu überprüfen. Das funktioniert am Besten an Referenzsystemen, bei denen Sie die gesuchte Lösung bereits kennen. Auch in der Prüfung wird es notwendig sein, dass Sie Ihre Umsetzung auf Fehler untersuchen. In dieser Aufgabe werden Sie die Konvergenzordnung Ihres `RK2Step`-Integrators überprüfen."
   ]
  },
  {
   "cell_type": "markdown",
   "metadata": {},
   "source": [
    "1. Bereiten Sie eine Pendelsimulation für ein Einzelpendel $N = 1$ vor. Die Federhärte betrage $k = 100$N/m, die Masse $m = 1$kg. Die Anfangsauslenkung sei 0m, die Anfangsgeschwindigkeit 1m/s."
   ]
  },
  {
   "cell_type": "markdown",
   "metadata": {},
   "source": [
    "2. Die analytische Lösung des Problems verrät eine Periodendauer von\n",
    "$$T = 2\\cdot \\pi\\cdot\\sqrt{\\frac{m}{k}}\\approx0.6283...\\,s$$\n",
    "    Berechnen Sie diese Periodendauer mit double-Genauigkeit in Ihrem Programm, so dass Sie sie als Variable zur Verfügung stehen haben."
   ]
  },
  {
   "cell_type": "markdown",
   "metadata": {},
   "source": [
    "3. Gemäß der analytischen Lösung ist die Position $x_{(T/4)}$ nach einer viertel Periodendauer gerade\n",
    "$$x_{(T/4)} = v_0\\cdot\\sqrt{\\frac{m}{k}}=0.1m$$\n",
    "    Berechnen Sie auch hierfür eine Variable."
   ]
  },
  {
   "cell_type": "markdown",
   "metadata": {},
   "source": [
    "4. Entwerfen Sie eine Simulationsschleife, die das System für exakt $T/4$ simuliert. Weil der Zeitschritt $\\Delta t$ im Allgemeinen kein ganzzahliges Vielfaches von $T/4$ ist, müssen Sie in Ihrer Schleife die Schrittweite modifizieren:\n",
    "    \n",
    "    Der letzte Schritt der Simulation soll nicht die Länge $\\Delta t$ betragen, sondern einen Bruchteil davon, so dass das System exakt bei $T/4$ endet. Alle anderen Schritte werden regulär mit genau $\\Delta t$ durchgeführt."
   ]
  },
  {
   "cell_type": "markdown",
   "metadata": {},
   "source": [
    "5. Simulieren Sie das Pendel mit dem RK2-Verfahren 100 mal mit logarithmisch verteilten $\\Delta t$ im Bereich von $10^{-8}$ bis $10^0$. Geben Sie jeweils den verwendeten Zeitschritt und den Betrag der Differenz (“Residuen”) zwischen analytischer und numerischer Endposition des Pendels in eine Datei aus.\n",
    "\n",
    "    **Hinweis**: Für sehr kleine $\\Delta t$ wird das Problem sehr schnell ziemlich rechenaufwendig.\n",
    "\n",
    "    * **Bei Programmierung in Python**: falls Sie Schwierigkeiten haben, in einer “vernünftigen” Zeit Ergebnisse für die sehr kleinen $\\Delta t$ zu erhalten, dann sollten Sie beim Ihrer Meinung nach kleinstmöglichen Wert aufhören und begründen, wieso Sie keine Simulationen mit kleineren Werten von $\\Delta t$ durchführen konnten."
   ]
  },
  {
   "cell_type": "markdown",
   "metadata": {},
   "source": [
    "6. Tragen Sie die Residuen doppellogarithmisch gegen die jeweilige Schrittweite auf. Bestimmen Sie aus der Steigung die Konvergenzordnung des Algorithmus. Wenn die Ordnung schlechter ist als Sie erwarten, ist die Implementierung fehlerhaft. Finden Sie in diesem Fall Ihre Fehler und korrigieren Sie sie!"
   ]
  },
  {
   "cell_type": "markdown",
   "metadata": {},
   "source": [
    "7. Untersuchen Sie auch das Euler-Verfahren und vergleichen Sie beide Integratoren in einem gemeinsamen Plot."
   ]
  },
  {
   "cell_type": "markdown",
   "metadata": {},
   "source": [
    "8. Führen Sie nun die Simulationen mit einem RK2-Algorithmus aus der SciPy-Bibliothek durch und vergleichen Sie die Laufzeit sowie das Konvergenzverhalten mit Ihrer eigenen Implementation. Führen Sie nun die Simulationen mit einem RK4-Algorithmus aus SciPy-Bibliothek durch und vergleichen Sie die Laufzeit sowie das Konvergenzverhalten mit denen des RK2-Algorithmus aus der Bibliothek.\n",
    "\n",
    "    Welchen Algorithmus würden Sie aufgrund Ihrer auf diesem Übungsblatt gemachten Erfahrungen zur Behandlung dieses Problems empfehlen? Empfehlen Sie den Einsatz der Algorithmen aus den Bibliotheken? Begründen Sie Ihre Antworten."
   ]
  },
  {
   "cell_type": "markdown",
   "metadata": {},
   "source": [
    "# Selbsttest\n",
    "\n",
    "* Wie gehe ich vor, wenn ich ein physikalisches Problem simulieren will, das durch ein System gekoppelter DGL beschrieben wird?\n",
    "* Welche Algorithmen gibt es?\n",
    "* Wann empfiehlt es sich, vorgefertigte Implementationen der Algorithmen aus Bibliotheken zu nutzen, wann ist eine eigene Implementation sinnvoller?\n",
    "* Wie setze ich die in der GSL- bzw. scipy-Bibliothek zur Verfügung stehenden Algorithmen zur Lösung von DGL(-Systemen) ein?\n",
    "* Ist RK2 genauer als Euler? Falls ja: warum?\n",
    "* RK2 erzeugt pro Zeitschritt mindestens den doppelten Rechenaufwand gegenüber Euler. Welchen Einfluss hat das auf Ihre Wahl des Integrators für ein Problem?"
   ]
  },
  {
   "cell_type": "code",
   "execution_count": null,
   "metadata": {},
   "outputs": [],
   "source": []
  }
 ],
 "metadata": {
  "kernelspec": {
   "display_name": "Python 3",
   "language": "python",
   "name": "python3"
  },
  "language_info": {
   "codemirror_mode": {
    "name": "ipython",
    "version": 3
   },
   "file_extension": ".py",
   "mimetype": "text/x-python",
   "name": "python",
   "nbconvert_exporter": "python",
   "pygments_lexer": "ipython3",
   "version": "3.7.4"
  }
 },
 "nbformat": 4,
 "nbformat_minor": 2
}
