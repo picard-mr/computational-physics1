{
 "cells": [
  {
   "cell_type": "markdown",
   "metadata": {},
   "source": [
    " <img align=\"right\" src=\"files/img/PhUniMa_Logo_sw.svg\">\n",
    "\n",
    "*Phillips-Universität Marburg* <br>\n",
    "*Fachbereich Physik*<br>\n",
    "*Priv.-Doz. Dr. S.R. Manmana, WiSe 2020/21*\n",
    "\n",
    "<h1><center>Übungen zur Vorlesung Computational Physics I<br><br>Blatt 5 - Bonusaufgaben</center></h1>\n",
    "\n",
    "---"
   ]
  },
  {
   "cell_type": "markdown",
   "metadata": {},
   "source": [
    "# Lernziele dieses Übungsblattes\n",
    "\n",
    "\n",
    "* Weitere typische Anfangswertprobleme der analytischen Mechanik:\n",
    "    - $N > 1$ miteinander wechselwirkende Teilchen in einem Zentralkraftfeld.\n",
    "    - Dynamik eines Teilchens in einem viskosen Medium: Reibung und Mitnahmeeffekt bei einem rotierenden Fussball (Magnuseffekt).\n",
    "    - Konzept des Lyapunov-Exponenten in einem chaotischen System.\n",
    "* Wahl von geeigneten Einheiten für die Simulation eines astrophysikalischen Systems.\n",
    "* Velocity-Verlet-Algorithmus für Systeme mit geschwindigkeitsunabhängigen Kräften."
   ]
  },
  {
   "cell_type": "markdown",
   "metadata": {},
   "source": [
    "# Aufgabenmodus\n",
    "\n",
    "Die Aufgaben dieser Woche sind als ’Bonusaufgaben’ gedacht und verfügen über keine gesonderten Tutorials. Sie stellen weitere interessante Beispiele vor, anhand derer Sie typische Fragestellungen zur Dynamik von Anfangswertproblemen numerisch untersuchen können. Diese Aufgaben können Sie gesondert zu Hause oder in den Übungsstunden bearbeiten, falls Sie mit den regulären Aufgaben bereits fertig geworden sind. Die Zeit in den Hands-On Übungen ist aber hauptsächlich zum Bearbeiten der regulären Aufgaben eingeplant. Bei Bedarf können Sie aber gerne auch Fragen zu den Bonusaufgaben stellen."
   ]
  },
  {
   "cell_type": "markdown",
   "metadata": {},
   "source": [
    "# Übungsaufgaben"
   ]
  },
  {
   "cell_type": "markdown",
   "metadata": {},
   "source": [
    "## Aufgabe 15: *Das Drei-Körper-Problem*\n",
    "\n",
    "\n",
    "Wir betrachten ein astrophysikalisches System mit $N = 3$ Körpern (z.B. 3 Sterne, oder 3 Asteroiden, oder ...), die nur durch das Newton’sche Gravitationsgesetz miteinander in Wechselwirkung stehen.\n",
    "\n",
    "Die Massen der drei Körper seien $m_1 = m_2 = M_0$ und $m_3 = 2M_0$. Zu Beginn der Simulation sollen die drei Körper den selben Abstand zueinander haben. Die Geschwindigkeit von $m_3$ sei null, die Geschwindigkeit der beiden anderen Körper soll 1AU/yr betragen, in entgegengesetzte Richtung zeigen und senkrecht zur Verbindungslinie zwischen $m_1$ und $m_2$ sein."
   ]
  },
  {
   "cell_type": "markdown",
   "metadata": {},
   "source": [
    "1. Wählen Sie geeignete Einheiten."
   ]
  },
  {
   "cell_type": "markdown",
   "metadata": {},
   "source": [
    "2. Implementieren Sie den Velocity-Verlet-Algorithmus für das System in 2 und 3 Raumdimensionen."
   ]
  },
  {
   "cell_type": "markdown",
   "metadata": {},
   "source": [
    "3. Bestimmen Sie einen geeigneten Zeitschritt (nicht zu klein, da sonst unnötig viel Rechenzeit verbraucht wird, nicht zu groß, sonst wird der Fehler dominant)."
   ]
  },
  {
   "cell_type": "markdown",
   "metadata": {},
   "source": [
    "4. Beginnen Sie mit dem zweidimensionalen Fall und plotten Sie die Trajektorien über einen ausreichend langen Zeitraum. Gibt es geschlossene Bahnen?"
   ]
  },
  {
   "cell_type": "markdown",
   "metadata": {},
   "source": [
    "5. Nehmen Sie die selben Anfangsbedingungen, geben aber einem der Körper noch eine kleine Geschwindigkeitskomponente aus der Ebene heraus, in der sich die drei Teilchen ursprünglich befinden. Beschreiben Sie das Ergebnis."
   ]
  },
  {
   "cell_type": "markdown",
   "metadata": {},
   "source": [
    "### Aufgabenlösung 15"
   ]
  },
  {
   "cell_type": "code",
   "execution_count": null,
   "metadata": {},
   "outputs": [],
   "source": []
  },
  {
   "cell_type": "code",
   "execution_count": null,
   "metadata": {},
   "outputs": [],
   "source": []
  },
  {
   "cell_type": "code",
   "execution_count": null,
   "metadata": {},
   "outputs": [],
   "source": []
  },
  {
   "cell_type": "markdown",
   "metadata": {},
   "source": [
    "## Aufgabe 16: *Magnus-Effekt*"
   ]
  },
  {
   "cell_type": "markdown",
   "metadata": {},
   "source": [
    "Rotierende Körper erfahren in einem Luftstrom eine Kraft senkrecht zur Strömungsrichtung. Dieses Phänomen wird Magnus-Effekt genannt und spielt eine große Rolle in Kernbereichen unseres Lebens, wie zum Beispiel dem Fussball. Auf einen fliegenden und rotierenden Fussball wirken die Schwerkraft, die Luftreibung und die Magnuskraft\n",
    "\n",
    "$$\\vec{F} = -m_B\\cdot g\\cdot \\hat{e}_z - 1.1\\cdot10^{-2}\\left[\\frac{kg}{m}\\right] |\\vec{v}|\\vec{v} + 1.35\\cdot10^{-3}\\, [kg]\\, \\omega \\times \\vec{v}$$\n",
    "    \n",
    "Dabei ist $\\hat{e}_z$ der Einheitsvektor in *z*-Richtung (senkrecht zum Boden), $\\omega$ ist die Winkelgeschwindigkeit der Eigendrehung des Balls, $g = 9.81 \\frac{kg\\cdot m}{s^2}$ die Erdbeschleunigung. Die Masse des Fussballs ist $m = 420 g$, der Radius $r$ sei $11 cm$. Wir vereinfachen das Modell durch die Annahme, dass die Rotationsgeschwindigkeit des Balls sich während des Flugs nicht verändert. Das Ziel dieser Aufgabe ist die Implementierung eines Programms, das einen Fussball auf einer gekrümmten Flugbahn fliegen lässt.\n",
    "\n",
    "Die folgenden Teilaufgaben sollen ein Leitfaden sein, mit dem Sie Probleme dieser Art schrittweise in ein Programm umsetzen.\n",
    "\n",
    "<img src=\"files/img/Aufgabe16.png\" style=\"width: 50vw;\">"
   ]
  },
  {
   "cell_type": "markdown",
   "metadata": {},
   "source": [
    "1. Verdeutlichen Sie sich, wie die Differentialgleichung, die sie in dieser Aufgabe lösen müssen, aussieht. Schauen Sie in Ihren Aufzeichnungen zur Vorlesung oder im Skript nach. Welche Daten müssen vom Programm eingelesen und ausgegeben werden?"
   ]
  },
  {
   "cell_type": "markdown",
   "metadata": {},
   "source": [
    "2. Überlegen Sie sich, welche Variablen Sie benötigen werden und wie Sie diese organisieren möchten."
   ]
  },
  {
   "cell_type": "markdown",
   "metadata": {},
   "source": [
    "3. Wählen Sie eine Strategie, wie sie eine möglichst übersichtlich benutzbare Funktion $F$ für die Kräfte, die auf den Ball wirken, aufstellen können."
   ]
  },
  {
   "cell_type": "markdown",
   "metadata": {},
   "source": [
    "4. Implementieren Sie eine Methode, die die schrittweise Integration mittels Runge-Kutta 4. Ordnung durchführt und den Zeitschritt als Parameter benutzt. Sie können dazu auch Funktionen wiederbenutzen, die Sie für frühere Aufgabenblätter implementiert haben, oder auch vorgefertigte Routinen aus Bibliotheken wie der `GSL` oder `scipy`."
   ]
  },
  {
   "cell_type": "markdown",
   "metadata": {},
   "source": [
    "Nun stellen Sie sich vor, Sie dürften für eine Nationalmannschaft Ihrer Wahl einen Eckstoß ausführen. Frei nach Rudi Völler wird ein Eckstoss am besten so ausgeführt, dass der Ball ins Tor fliegt, falls ihn kein Spieler berührt. Der Ball liegt genau auf einem der Eckpunkte, und soll mit einem Fusstritt dazu bewegt werden, in das Tor zu fliegen. Da das Problem in unserem Modell dreidimensional ist, gibt es streng genommen 6 Parameter, die Komponenten in den drei Raumrichtungen der Bewegung und der Eigendrehung des Balls. Sie können zunächst annehmen, dass der Ball nur um die Achse senkrecht zum Boden rotiert und so die Anzahl der Parameter auf 4 reduzieren (Vektorkomponenten der Startgeschwindigkeit und der Drehgeschwindigkeit um die *z*-Achse)."
   ]
  },
  {
   "cell_type": "markdown",
   "metadata": {},
   "source": [
    "5. Bestimmen Sie durch Ausprobieren einen Satz Startwerte, für die der Ball mittels einer bananenförmigen Flugbahn ins Tor fliegt. Wählen Sie einen beliebigen regelkonformen Platz (siehe Abb.1), die Torhöhe ist $2.44 m$."
   ]
  },
  {
   "cell_type": "markdown",
   "metadata": {},
   "source": [
    "### Aufgabenlösung 16"
   ]
  },
  {
   "cell_type": "code",
   "execution_count": null,
   "metadata": {},
   "outputs": [],
   "source": []
  },
  {
   "cell_type": "code",
   "execution_count": null,
   "metadata": {},
   "outputs": [],
   "source": []
  },
  {
   "cell_type": "code",
   "execution_count": null,
   "metadata": {},
   "outputs": [],
   "source": []
  },
  {
   "cell_type": "markdown",
   "metadata": {},
   "source": [
    "## Aufgabe 17: *Lyapunov Exponent*"
   ]
  },
  {
   "cell_type": "markdown",
   "metadata": {},
   "source": [
    "Das chaotische Gebiet der logistischen Abbildung aus Aufgabe 9 ist durch eine extreme Sensitivität gegenüber den Anfangsbedingungen gekennzeichnet. Diese läßt sich mit Hilfe des Lyapunov-Exponenten $\\lambda$ quantitativ erfassen. Der Lyapunov Exponent besagt, wie sich zwei Folgen, deren Startwerte $x_0$ nur minimal variieren, nach $n$ Iterationen unterscheiden:\n",
    "\n",
    "$$|f^{(n)}(x_0 + \\epsilon_0) - f^{(n)(x_0)}| \\approx \\epsilon_0 e^{\\lambda n}$$\n",
    "\n",
    "Ist $\\lambda$ negativ, so bewegen sich die beiden Folgen auf die gleiche Trajektorie zu. Ein positiver Wert $\\lambda > 0 $ hingegen kennzeichnet chaotisches Verhalten.\n",
    "\n",
    "Mit Hilfe der folgenden Überlegung läßt sich eine Vorschrift gewinnen, die für numerische Berechnungen besonders gut geeignet ist, da nur eine einzige Trajektorie iteriert werden muss. Die Definition des Lyapunov Exponenten läßt sich umstellen zu\n",
    "\n",
    "$$\\lambda \\approx \\frac{1}{n} ln|\\frac{f^{(n)}(x_0 + \\epsilon_0) - f^{(n)}(x_0)}{\\epsilon_0}| \\approx \\frac{1}{n} ln|\\frac{d}{dx}f^{(n)}(x_0)|$$\n",
    "\n",
    "Bedenkt man nun, dass $f^{(n)} = f(f(...f(x_0))...)$ ist und wendet die Kettenregel an, so gelangt man schiesslich zum Ausdruck\n",
    "\n",
    "$$\\lambda \\approx \\frac{1}{n} \\sum^{n-1}_{i=0}ln|f'(x_i)|$$\n",
    "\n",
    "\n",
    "Die Abbleitung $f'(x_i)$ ist dabei die analytische Abbleitung der logistischen Abbildung nach $x$. Berechnen Sie anhand dieser Vorschrift den Lyapunov Exponenten für die logistische Abbildung als Funktion des Parameters $\\mu$ von Aufgabe 9.\n",
    "\n",
    "Erwarten Sie für die Systeme aus Aufgaben 15 und 16 chaotisches Verhalten (begründen Sie)? Wie müsste man dort vorgehen, um den Lyapunov-Exponenten zu erhalten?"
   ]
  },
  {
   "cell_type": "markdown",
   "metadata": {},
   "source": [
    "### Aufgabenlösung 17"
   ]
  },
  {
   "cell_type": "code",
   "execution_count": null,
   "metadata": {},
   "outputs": [],
   "source": []
  },
  {
   "cell_type": "code",
   "execution_count": null,
   "metadata": {},
   "outputs": [],
   "source": []
  },
  {
   "cell_type": "code",
   "execution_count": null,
   "metadata": {},
   "outputs": [],
   "source": []
  },
  {
   "cell_type": "markdown",
   "metadata": {},
   "source": [
    "# Selbsttest\n",
    "\n",
    "* Welche Algorithmen kennen Sie um Anfangswertprobleme bei gewöhnlichen Differentialgleichungen zu behandeln?\n",
    "* Kann man mit diesen Algorithmen Differentialgleichungen beliebiger Ordnung bearbeiten?\n",
    "* Welchen Algorithmus würden Sie für welche Situation einsetzen? Begründen Sie Ihre Antwort.\n",
    "* Wann würden Sie empfehlen, einen Algorithmus aus einer Programmbibliothek (wie z.B. `scipy` oder `GSL`) zu nutzen? Wie werden diese ggf. aufgerufen?"
   ]
  },
  {
   "cell_type": "code",
   "execution_count": null,
   "metadata": {},
   "outputs": [],
   "source": []
  }
 ],
 "metadata": {
  "kernelspec": {
   "display_name": "Python 3",
   "language": "python",
   "name": "python3"
  },
  "language_info": {
   "codemirror_mode": {
    "name": "ipython",
    "version": 3
   },
   "file_extension": ".py",
   "mimetype": "text/x-python",
   "name": "python",
   "nbconvert_exporter": "python",
   "pygments_lexer": "ipython3",
   "version": "3.7.4"
  }
 },
 "nbformat": 4,
 "nbformat_minor": 2
}
