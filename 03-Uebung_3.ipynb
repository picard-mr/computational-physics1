{
 "cells": [
  {
   "cell_type": "markdown",
   "metadata": {},
   "source": [
    " <img align=\"right\" src=\"files/img/PhUniMa_Logo_sw.svg\">\n",
    "\n",
    "*Phillips-Universität Marburg* <br>\n",
    "*Fachbereich Physik*<br>\n",
    "*Priv.-Doz. Dr. S.R. Manmana, WiSe 2020/21*\n",
    "\n",
    "<h1><center>Übungen zur Vorlesung Computational Physics I<br><br>Blatt 3</center></h1>\n",
    "\n",
    "---"
   ]
  },
  {
   "cell_type": "markdown",
   "metadata": {},
   "source": [
    "# Lernziele dieses Übungsblattes\n",
    "\n",
    "\n",
    "* Numerische Nullstellensuche: Newton-Raphson-Algorithmus\n",
    "* Explizites Euler-Verfahren\n",
    "* Physikalische Modellierung: ein ’astrophysikalisches System’, Ausbreitung von Epidemien (SEIR-Modell) und Populationsdynamik (logistische Abblidung und Periodenverdopplung - Bonusaufgabe)"
   ]
  },
  {
   "cell_type": "markdown",
   "metadata": {},
   "source": [
    "# Aufgabenmodus\n",
    "\n",
    "Die Aufgaben 7 und 10 dieses Arbeitsblattes verfügen über Tutorials, die Sie am Ende des Dokumentes finden. Abhängig von Ihren Vorkenntnissen könne Sie die Aufgaben entweder eigenständig bearbeiten, oder dem dazugehörigen Tutorial folgen. Ziel der Tutorials ist es, Sie durch die grundlegenden Lernkonzepte zu führen und ggf. Ihre C-Kenntnisse aufzufrischen. Nach Abschluss eines Tutorials haben Sie ein funktionierendes Programm vorliegen und die entsprechende (Teil-)Aufgabe hinreichend bearbeitet.\n",
    "\n",
    "Die Tutorials fallen zunächst sehr feinschrittig aus, werden aber im Laufe des Semesters zunehmend aufeinander aufbauen. Bereits erläuterte Konzepte müssen Sie dann ggfs. in früheren Übungen nachlesen.\n",
    "\n",
    "Die Tutorials sind lediglich als Lösungs-Vorschlag zu verstehen. Wir ermutigen Sie, auch Ihre eigenen Implementierungen auszuprobieren.\n",
    "\n",
    "Manche Teilaufgaben sind als **Bonus**-Aufgaben gekennzeichnet und haben einen fortgeschrittenen Schwierigkeitsgrad. Sie dienen der Vertiefung Ihres Verständnisses der Algorithmen. Wir empfehlen Ihnen, zunächst die normalen Aufgaben zu bearbeiten."
   ]
  },
  {
   "cell_type": "markdown",
   "metadata": {},
   "source": [
    "# Übungsaufgaben"
   ]
  },
  {
   "cell_type": "markdown",
   "metadata": {},
   "source": [
    "## Aufgabe 7: *Newton-Raphson-Algorithmus*\n",
    "\n",
    "\n",
    "*Hinweis*: Diese Aufgabe hat ein Tutorial.\n",
    "\n",
    "Das James Webb Space Telescope (JWST) soll 2021 seinen Dienst als Nachfolger des Hubble-Teleskops antreten. Das JWST arbeitet im fernen Infrarotbereich und seine Instrumente benötigen hierfür ein komplexes Kühlungskonzept. Essentiell dabei ist die Positionierung des Teleskops: Um jegliche Sonneneinstrahlung zu vermeiden wird das JWST im Schatten der Erde auf dem sonnenabgewandten Lagrangepunkt L2 geparkt.\n",
    "\n",
    "Ziel dieser Aufgabe ist es, die Position von L2 und seine Entfernung zur Erde zu berechnen. Die zugrundeliegende Gleichung ist, als Polynom fünften Grades, analytisch nicht lösbar. Mit einem numerischen Nullstellensucher wie dem Newton-Raphson-Algorithmus (der weiter unten beschrieben wird) kann der Lagrangepunkt aber leicht bestimmt werden.\n",
    "\n",
    "Wir betrachten das Sonne-Erde-System in einem mitrotierenden Koordinatensystem. Die Erde bewege sich auf einer perfekten Kreisbahn um die Sonne und stehe somit in den gewählten Koordinaten still. Die Bewegung der Sonne sei ebenfalls vernachlässigbar.\n",
    "\n",
    "<img src=\"files/img/Aufgabe7.png\">\n",
    "\n",
    "Führen Sie alle Berechnungen in 1D durch, auf dem Verbindungsstrahl von der Sonne durch die Erde.\n",
    "\n",
    "1. Auf das JWST wirken drei beschleunigende Kräfte: die Gravitationskräfte von Sonne und Erde, sowie eine Zentrifugalkraft durch die Wahl der Koordinaten. Der Lagrangepunkt L2 markiert den Punkt, an denen sich diese drei Kräfte gerade zu Null aufheben.\n",
    "\n",
    "    Stellen Sie die Gleichung für ein Kräftegleichgewicht auf. Die Masse des JWST lässt sich aus der Gleichung herauskürzen:$$\\pm a_{Erde}\\pm a_{Sonne}\\pm a_{zentrifugal} \\stackrel{!}{=} 0$$\n",
    "\n",
    "    Sie dürfen annehmen, dass sich der L2 hinter der Erde befindet und die Vorzeichen entsprechend wählen.\n",
    "\n",
    "    Die Gravitationsbeschleunigungen sind von der Form $-\\frac{\\mu}{\\Delta x^2}$, die Zentrifugalbeschleunigung von der Form $\\omega^2r$.\n",
    "    \n",
    "    \n",
    "2. Schreiben Sie eine Funktion `acceleration`, die die linke Seite der Gleichung zurückgibt. Der Parameter `r` ist der Abstand des Teleskops von der Sonne:\n",
    "```python\n",
    "def acceleration(r):\n",
    "    a_earth = ...\n",
    "    a_sun = ...\n",
    "    a_centrifugal = ...\n",
    "    return a_earth + a_sun + a_centrifugal\n",
    "```\n",
    "    Sie benötigen folgende physikalische Konstanten:\n",
    "    \n",
    "    - Gravitationsparameter der Erde $\\mu_{Erde} = 3.986 \\cdot 10^{14}\\frac{m^3}{s^2}$\n",
    "    - Gravitationsparameter der Sonne $\\mu_{Sonne} = 1.327 \\cdot 10^{20}\\frac{m^3}{s^2}$\n",
    "    - Kreisfrequenz des Erdorbits $\\omega = 1.991 \\cdot 10^{-7} Hz$\n",
    "    - Radius des Erdorbits $R = 1.496 \\cdot 10^{11} m$\n",
    "    \n",
    "\n",
    "3. Fügen Sie Ihrer Numerik-Bibliothek die neue Funktion\n",
    "```python\n",
    "def findRoot(func, x0, delta, relTol, maxIter):\n",
    "    pass\n",
    "```\n",
    "hinzu. Die Funktion berechnet eine Nullstelle einer Funktion mit dem Newton-Raphson-Algorithmus. Die übergebenen Parameter sollen folgende Funktionsweise haben:\n",
    "\n",
    "    `func`: Die Funktion deren Nullstelle gefunden werden soll.\n",
    "    \n",
    "    `x0`: Der Startwert (initial guess) für die Iteration.\n",
    "    \n",
    "    `delta`: Die Schrittweite bei der Berechnung der Ableitung.\n",
    "    \n",
    "    `relTol`: Relative Toleranz zwischen den Iterationen. Wenn die prozentuale Abweichung der Lösung zwischen zwei aufeinander folgenden Iterationen kleiner ist als `relTol`, dann wird die Lösung akzeptiert.\n",
    "    \n",
    "    `maxIter`: Die maximale Anzahl an Iterationen bevor die Berechnung erzwungen beendet wird.\n",
    "\n",
    "    Der Newton-Raphson-Algorithmus ist ein iteratives Verfahren, das durch wiederholte Anwendung eine Nullstelle einer Funktion $f(x)$ bestimmt. Ausgehend von einem Anfangswert $x_0$ wird folgende Vorschrift benutzt, um die Lösung $x_i$ zunehmend zu verbessern:\n",
    "$$x_{n+1} = x_n - \\frac{f(x_n)}{f'(x_n)}$$\n",
    "    Benutzen Sie Ihre Funktion `diff` um die Ableitung zu berechnen.\n",
    "    \n",
    "    \n",
    "4. Finden Sie die Nullstelle der Funktion `acceleration` mit der eben erstellten Routine `findRoot` und berechnen Sie den Abstand $R−r$ vom L2 zur Erde. Achten Sie darauf, einen sinnvollen Startwert `x0` zu wählen. Als Schrittweite ist $\\delta = 1km$ eine geeignete Wahl. Vergleichen Sie Ihre Berechnung mit Literaturwerten."
   ]
  },
  {
   "cell_type": "markdown",
   "metadata": {},
   "source": [
    "### Tutorial - Aufgabe 7"
   ]
  },
  {
   "cell_type": "markdown",
   "metadata": {},
   "source": [
    "Die Übungen und die Tutorials sollen Ihnen die _divide and conquer_ Strategie nahebringen. _Teile und herrsche_ bedeutet, ein komplexes Problem in viele kleine Einzelprobleme zu zerlegen, die für sich gesehen einfach zu lösen sind. Wenn ein (Einzel)-Problem dann gelöst ist, müssen Sie sich keine weitere Gedanken darum machen und können die Komponente wie eine Blackbox als _gegeben_ ansehen. Am Ende werden die Komponenten zusammengesetzt und lösen das eigentliche Problem.\n",
    "\n",
    "Genau diese Strategie haben Sie schon auf dem ersten Übungsblatt gesehen, als Sie die Integrationsfunktion `integrate` geschrieben haben und darauf basierend dann die Fehlerfunktion `myErf` erstellt haben. Nachdem die Behandlung von Integralen abgehandelt wurde, ist es ein leichtes, komplexere mathematische Funktionen darauf aufzubauen.\n",
    "\n",
    "Bevorzugen Sie _divide and conquer_ immer vor einer mutmaßlich “optimierten” Umsetzung, in der sämtliche Systeme miteinander verwoben in einem einzelnen Codeblock umgesetzt werden. Ihre Programme werden dadurch deutlich übersichtlicher, verständlicher und leichter wartbar. Optimieren Sie Ihren Code erst am Ende, wenn Sie tatsächliche Daten über das Laufzeitverhalten sammeln können (performance profiling, z.B. mit `gprof`)."
   ]
  },
  {
   "cell_type": "markdown",
   "metadata": {},
   "source": [
    "#### Newton-Raphson-Algorithmus\n",
    "\n",
    "1. Stellen Sie zunächst die Gleichung wie in 1 gefordert auf.\n",
    "\n",
    "\n",
    "2. Definieren Sie direkt die physikalischen Konstanten:"
   ]
  },
  {
   "cell_type": "code",
   "execution_count": null,
   "metadata": {},
   "outputs": [],
   "source": [
    "mu_earth = 3.986e14\n",
    "mu_sun = 1.327e20\n",
    "omega = 1.991e-7\n",
    "radius_orbit_earth = 1.496e11"
   ]
  },
  {
   "cell_type": "markdown",
   "metadata": {},
   "source": [
    "Beachten Sie, dass es in Python keine native Möglichkeit gibt, konstante oder unveränderbare Variablen zu deklarieren. Es gibt einige Tricks, um dieses Verhalten zu simulieren, aber es beeinträchtigt die Lesbarkeit. Weitere Informationen finden Sie in [diesem](https://stackoverflow.com/questions/2682745/how-do-i-create-a-constant-in-python) Thread.\n",
    "\n",
    "3. Erstellen Sie jetzt die Funktion"
   ]
  },
  {
   "cell_type": "code",
   "execution_count": null,
   "metadata": {},
   "outputs": [],
   "source": [
    "def acceleration(r):\n",
    "    a_earth = ???\n",
    "    a_sun = ???\n",
    "    a_centrifugal = omega*omega*r\n",
    "    return a_earth + a_sun + a_centrifugal"
   ]
  },
  {
   "cell_type": "markdown",
   "metadata": {},
   "source": [
    "Die Zentrifugal-Beschleunigung greift hier auf die globale Variable `omega` zu. Ergänzen Sie bei `???` noch die korrekte Berechnung für die Gravitations-Terme.\n",
    "\n",
    "4. Importieren Sie die Daten `myNumerics.py` aus den letzten Übungen. Kopieren Sie dazu die Datei in den aktuellen Ordner oder verweisen Sie auf den Pfad, wie im **Tutorial - Aufgabe 5 - Blatt 2** angegeben. Danach verwenden Sie den Befehl `import myNumerics`.\n",
    "\n",
    "\n",
    "5. Erstellen Sie in `myNumerics.py` die neue Funktion"
   ]
  },
  {
   "cell_type": "code",
   "execution_count": null,
   "metadata": {},
   "outputs": [],
   "source": [
    "def findRoot(func, x0, delta, relTol, maxIter):\n",
    "    pass"
   ]
  },
  {
   "cell_type": "markdown",
   "metadata": {},
   "source": [
    "6. Fügen Sie der Funktion einen Iterationszähler und die gesuchte Nullstelle `x` hinzu:"
   ]
  },
  {
   "cell_type": "code",
   "execution_count": null,
   "metadata": {},
   "outputs": [],
   "source": [
    "x = x0\n",
    "iteration = 0"
   ]
  },
  {
   "cell_type": "markdown",
   "metadata": {},
   "source": [
    "7. Benutzen Sie eine `while`-Schleife, um die Iteration wiederholt zu berechnen. Benutzen Sie dafür folgenden Code und ergänzen Sie die fehlenden Ausdrücke bei `???`. Vergessen Sie nicht, ihr Ergebnis mithilfe des `return`-Befehls zurückzugeben!"
   ]
  },
  {
   "cell_type": "code",
   "execution_count": null,
   "metadata": {},
   "outputs": [],
   "source": [
    "while(iteration < ???):\n",
    "    f = ??? # Funktionswert\n",
    "    df = diff(???) # Ableitung\n",
    "    x_old = x # Fuer Toleranzvergleich speichern\n",
    "    x -= ??? # Iterationsschritt durchfuehren\n",
    "    if abs(x_old-x)/abs(x) < relTol:\n",
    "        break\n",
    "    iteration++;\n",
    "return x"
   ]
  },
  {
   "cell_type": "markdown",
   "metadata": {},
   "source": [
    "Nun können Sie den rest der Aufgaben bearbeiten."
   ]
  },
  {
   "cell_type": "markdown",
   "metadata": {},
   "source": [
    "### Aufgabenlösung 7"
   ]
  },
  {
   "cell_type": "code",
   "execution_count": null,
   "metadata": {},
   "outputs": [],
   "source": []
  },
  {
   "cell_type": "code",
   "execution_count": null,
   "metadata": {},
   "outputs": [],
   "source": []
  },
  {
   "cell_type": "code",
   "execution_count": null,
   "metadata": {},
   "outputs": [],
   "source": []
  },
  {
   "cell_type": "markdown",
   "metadata": {},
   "source": [
    "## Aufgabe 8: *Epidemie-Modellierung*\n",
    "\n"
   ]
  },
  {
   "cell_type": "markdown",
   "metadata": {},
   "source": [
    "Ein einfaches Modell für die Dynamik einer Krankheits-Epidemie ist das SEIR-Modell.\n",
    "Es betrachtet vier Mengen von Personen die an der Dynamik der Epidemie teilnehmen:\n",
    "\n",
    "* **Susceptible**: Personen der Gruppe S sind anfällig für die Krankheit.\n",
    "\n",
    "* **Exposed**: Personen der Gruppe E wurden der Krankheit ausgesetzt und tragen den Erreger in sich. Die Gruppe ist noch nicht ansteckend.\n",
    "\n",
    "* **Infectious**: Personen der Gruppe I haben die Krankheit soweit ausgebildet, dass sie nun Personen der Gruppe S anstecken können.\n",
    "\n",
    "* **Removed**: Personen der Gruppe R nehmen nicht mehr an der Dynamik der Epidemie teil, weil sie entweder gestorben oder gesundet und immunisiert sind.\n",
    "\n",
    "Der Übergang von einer Gruppe zur anderen geschieht mit einer gewissen Rate $a \\beta$, oder $\\gamma$ und folgt dem folgenden Schema:\n",
    "\n",
    "<img src=\"files/img/Aufgabe8-1.png\">\n",
    "\n",
    "Die Dynamik der Größen wird durch folgendes System von Differentialgleichungen beschrieben: \n",
    "\n",
    "\\begin{equation}\n",
    "\\frac{dS}{dt} = -\\beta\\frac{I\\cdot S}{N} \\\\\n",
    "\\frac{dE}{dt} = \\beta\\frac{I\\cdot S}{N} - aE\\\\\n",
    "\\frac{dI}{dt} = aE - \\gamma I\n",
    "\\tag{1}\n",
    "\\end{equation}\n",
    "\n",
    "Vitaldynamiken (Geburten und natürliche Tode) werden hier ignoriert. Der Parameter $\\beta$ ist die durchschnittliche Ansteckungsrate pro Person, $a$ ist der Kehrwert der mittleren (exponentiell verteilten) _präinfektiösen Zeit_ und $\\gamma$ der Kehrwert der mittleren _infektiösen Zeit_.\n",
    "\n",
    "Für das Virus SARS-CoV-2 veröffentlichte die DGEpi am 21.3.2020 folgende Modellparameter:\n",
    "\n",
    "* $a = (5.5 $Tage$)^{-1}$\n",
    "* $\\gamma = (3 $Tage$)^{-1}$\n",
    "\n",
    "Die Ansteckungsrate wird über die Basisreprodukionszahl $R_0$ angegeben:\n",
    "\n",
    "$$R_0 = \\frac{\\beta}{\\gamma} \\tag{2}$$\n",
    "\n",
    "\n",
    "1. Diskretisieren Sie das SEIR-Modell unter Anwendung des expliziten Euler-Verfahrens. Überführen Sie hierfür die Zeitableitung einer Größe A in eine Vorwärtsdifferenz und nummerieren Sie die diskreten Schritte mit einem Index $i$:\n",
    "$$\n",
    "\\frac{dA}{dt} \\longrightarrow \\frac{A(t + \\Delta t) - A(t)}{\\Delta t} \\equiv \\frac{A_{i+1} - A_i}{\\Delta t}\n",
    "$$\n",
    "\n",
    "    Für die explizite Version des Verfahrens wird die rechte Seite des Gleichungssystems dann zum Zeitpunkt $i$ ausgewertet. Stellen Sie die Gleichungen nach den Größen $A_{i+1}$ des nächsten Zeitschrittes um.\n",
    "\n",
    "\n",
    "2. Schreiben Sie ein Python-Programm, das die diskretisierten SEIR-Gleichungen löst. Schreiben Sie den zeitlichen Verlauf der Populationsgrößen in eine CSV-Datei auf die Festplatte. Verwenden Sie Anfangswerte von $E(t = 0) = 40000$ und $I(t = 0) = 10000$. Die Gesamtpopulation beträgt $83 \\cdot 10^6$.\n",
    "\n",
    "    Untersuchen Sie das Verhalten für die verschiedenen Basisreproduktionszahlen $R0 = [1.25, 1.5, 2]$.\n",
    "    \n",
    "    Als Zeitschritt ist $\\Delta t = 0.01$ geeignet, also 100 Samples pro Tag.\n",
    "    \n",
    "    \n",
    "3. Plotten Sie die Populationsgrößen gegen die Zeit. Bestimmen Sie die maximale Größe der Infektiösen Gruppe. Wieviele Intensivfälle würden je $R_0$ auftreten, wenn 5% dieser Personen eine (ambulante) Intensivpflege benötigten?\n",
    "\n",
    "4. Lassen Sie die Simulation zunächst mit $R0 = 2$ laufen. Nach 15, 20 oder 35 Tagen werden Maßnahmen zur Reduktion der Reproduktionsrate auf 0.9 eingeführt. Plotten Sie den Verlauf mit jeweils einer dieser Maßnahmen und untersuchen Sie die Auswirkungen auf die (maximale) Anzahl der Infektionen.\n",
    "\n",
    "5. **Bonus**: Die Intensivbettenbelegung ist tatsächlich nicht proportional zur Größe $I$, sondern selbst dynamisch. Da Personen längere Zeit in intensiver Betreuung verbringen, akkumulieren sich die Patienten. Erweitern Sie das Modell, um diese Belegungszahl zu simulieren. Überführen Sie 5% der Personen des Übergangs $I \\rightarrow R$ stattdessen in Intensivpflege. Die Intensivpflege dauere im Schnitt 20 Tage und sei exponentiell verteilt. Untersuchen Sie, wie früh die $R_0$-Reduktion von 2 auf 0.9 stattfinden muss, damit die maximale Intensivbettenbelegung 30000 nicht übersteigt. Wie stark wird die Kapazität überlastet, wenn 7 Tage zu lange gewartet wird?\n",
    "\n",
    "<img src=\"files/img/Aufgabe8-2.png\">\n",
    "\n",
    "6. **Weiterführende Informationen**: Die Modellierung des Robert-Koch-Institutesder Covid-19 Epidemie in Deutschland ist in folgendem Dokument beschrieben https://www.rki.de/DE/Content/InfAZ/N/Neuartiges_Coronavirus/Modellierung_Deutschland.pdf.\n",
    "\n",
    "    Eine deutlich komplexere Modellierung (zum Zwecke einer genaueren $R_0(t)$-Bestimmung) wird z.B. vom Helmholtz-Zentrum für Infektionsforschung unter http://secir.theoretical-biology.de/ besprochen.\n",
    "    \n",
    "    Die Stellungnahme der DGEpi mit den oben verwendeten Modellparametern finden Sie unter https://www.dgepi.de/assets/Stellungnahmen/Stellungnahme2020Corona_DGEpi-21032020-v2.pdf."
   ]
  },
  {
   "cell_type": "markdown",
   "metadata": {},
   "source": [
    "### Aufgabenlösung 8"
   ]
  },
  {
   "cell_type": "code",
   "execution_count": null,
   "metadata": {},
   "outputs": [],
   "source": []
  },
  {
   "cell_type": "code",
   "execution_count": null,
   "metadata": {},
   "outputs": [],
   "source": []
  },
  {
   "cell_type": "code",
   "execution_count": null,
   "metadata": {},
   "outputs": [],
   "source": []
  },
  {
   "cell_type": "markdown",
   "metadata": {},
   "source": [
    "## Aufgabe 9: *Populationsdynamik*\n"
   ]
  },
  {
   "cell_type": "markdown",
   "metadata": {},
   "source": [
    "**Bonusaufgabe**: Implementieren und Verifizieren Sie die im Skript besprochene Populationsdynamik. Bestimmen Sie die Zeitentwicklung der logistischen Abbildung und diskutieren Sie den Poincaré-Schnitt. Für welche Parameterwerte erhalten Sie eine Periodenverdopplung?"
   ]
  },
  {
   "cell_type": "markdown",
   "metadata": {},
   "source": [
    "### Aufgabenlösung 9"
   ]
  },
  {
   "cell_type": "code",
   "execution_count": null,
   "metadata": {},
   "outputs": [],
   "source": []
  },
  {
   "cell_type": "code",
   "execution_count": null,
   "metadata": {},
   "outputs": [],
   "source": []
  },
  {
   "cell_type": "code",
   "execution_count": null,
   "metadata": {},
   "outputs": [],
   "source": []
  },
  {
   "cell_type": "markdown",
   "metadata": {},
   "source": [
    "## Information zur Aufgabe 10: *Zusatzaufgabe: Arrays und Pointer*\n"
   ]
  },
  {
   "cell_type": "markdown",
   "metadata": {},
   "source": [
    "**Diese Aufgabe dient zur Auffrischung Ihrer C-Kenntnisse über Arrays und Pointer. Sie können die Aufgabe überspringen, wenn Sie sich sicher in diesen Konzepten fühlen.**\n",
    "\n",
    "**Die Anleitung für die Übung in der C-Sprache ist in der PDF-Datei des Kurses zu finden, da diese Sprache von Jupyter nicht unterstützt wird.**\n",
    "\n",
    "Zeiger sind Variablen, die die Speicherposition anderer Variablen speichern. Sie verfolgen, wo eine bestimmte Variable alloziert wird.\n",
    "\n",
    "Leider ist dieses Feature in moderneren Sprachen nicht üblich, sondern typisch für low-level Programmiersprachen. In Python gibt es keine Zeiger, und es wird dringend empfohlen, diese Aufgabe in C auszuführen, um einen soliden Begriff von Zeigern zu entwickeln.\n",
    "\n",
    "Es ist jedoch möglich, das Verhalten von Zeigern in Python zu simulieren. Dazu ist es notwendig zu verstehen, was veränderliche und was unveränderliche Variablen sind. Eine detaillierte Erklärung findet sich in [diesem](https://realpython.com/pointers-in-python/) Artikel, einschließlich der Simulation von Zeigern.\n",
    "\n",
    "Einfach ausgedrückt: Python erzeugt jedes Mal, wenn eine unveränderliche Variable geändert wird, ein neues Objekt, daher ändert es auch seine Position im Speicher.\n",
    "\n",
    "Um dies zu überprüfen, werden wir die Funktion `id()` verwenden, die den eindeutigen Bezeichner eines Objekts zurückgibt. Wenn diese Zahl für zwei Variablen gleich ist, bedeutet dies, dass es sich um dasselbe Objekt handelt. Im Gegenteil, wenn sie unterschiedlich sind, handelt es sich um 2 verschiedene Objekte."
   ]
  },
  {
   "cell_type": "code",
   "execution_count": 37,
   "metadata": {},
   "outputs": [
    {
     "name": "stdout",
     "output_type": "stream",
     "text": [
      "ID of original x is 4355134160\n",
      "ID of new x is 4355133616\n"
     ]
    }
   ],
   "source": [
    "# Initialize x\n",
    "x = 2020\n",
    "print('ID of original x is', id(x))\n",
    "\n",
    "# Assign new value to x\n",
    "x += 1\n",
    "print('ID of new x is', id(x))"
   ]
  },
  {
   "cell_type": "markdown",
   "metadata": {},
   "source": [
    "Sie können sehen, dass die Bezeichner unterschiedlich sind, daher bestätigen wir, dass ein neues Objekt erstellt wurde, wenn wir `x` einen neuen Wert zuweisen.\n",
    "\n",
    "Es gibt jedoch veränderbare Datentypen, z.B. Listen. Wir können den Wert einem Element in einer Liste _in-situ_ neu zuweisen, ohne ein neues Objekt zu erzeugen und somit im gleichen Speicherplatz zu verbleiben."
   ]
  },
  {
   "cell_type": "code",
   "execution_count": 52,
   "metadata": {
    "scrolled": true
   },
   "outputs": [
    {
     "name": "stdout",
     "output_type": "stream",
     "text": [
      "ID of original y is 4353600880\n",
      "ID of new y is 4353600880\n"
     ]
    }
   ],
   "source": [
    "y = [2020]\n",
    "print('ID of original y is', id(y))\n",
    "\n",
    "y[0] += 1\n",
    "print('ID of new y is', id(y))"
   ]
  },
  {
   "cell_type": "markdown",
   "metadata": {},
   "source": [
    "Versuchen wir nun, das Verhalten der folgenden Funktion in C zu simulieren, die einen Zeiger als Argument empfängt:\n",
    "```c++\n",
    "void add_one(int *x) {\n",
    "    *x += 1;\n",
    "}\n",
    "```\n",
    "Diese funktion nimmt einen Zeiger auf eine ganze Zahl `*x` und erhöht dann den Wert um eins. Betrachten Sie die Verwendung einer Liste und die Modifizierung des ersten Elements:"
   ]
  },
  {
   "cell_type": "code",
   "execution_count": 53,
   "metadata": {},
   "outputs": [
    {
     "data": {
      "text/plain": [
       "2021"
      ]
     },
     "execution_count": 53,
     "metadata": {},
     "output_type": "execute_result"
    }
   ],
   "source": [
    "def add_one(x):\n",
    "    x[0] += 1\n",
    "\n",
    "y = [2020]\n",
    "add_one(y)\n",
    "y[0]"
   ]
  },
  {
   "cell_type": "markdown",
   "metadata": {},
   "source": [
    "Dies ist die einfachste Methode, um einige Verhaltensweisen der Zeiger zu simulieren, aber es ist wichtig zu wissen, dass es sich dabei weder um echte Zeiger handelt noch jeder Aspekt oder Nutzen von Zeigern simuliert wird. Um andere Möglichkeiten zu kennen, sie zu simulieren und sogar echte C-Zeiger in Python zu verwenden, konsultieren Sie den vorhergehenden Artikel."
   ]
  },
  {
   "cell_type": "markdown",
   "metadata": {},
   "source": [
    "# Selbsttest\n",
    "\n",
    "* Wie funktioniert der Newton-Raphson-Algorithmus?\n",
    "* Wie funktioniert das explizite Euler-Verfahren?"
   ]
  },
  {
   "cell_type": "code",
   "execution_count": null,
   "metadata": {},
   "outputs": [],
   "source": []
  }
 ],
 "metadata": {
  "kernelspec": {
   "display_name": "Python 3",
   "language": "python",
   "name": "python3"
  },
  "language_info": {
   "codemirror_mode": {
    "name": "ipython",
    "version": 3
   },
   "file_extension": ".py",
   "mimetype": "text/x-python",
   "name": "python",
   "nbconvert_exporter": "python",
   "pygments_lexer": "ipython3",
   "version": "3.7.4"
  }
 },
 "nbformat": 4,
 "nbformat_minor": 2
}
