{
 "cells": [
  {
   "cell_type": "markdown",
   "metadata": {},
   "source": [
    " <img align=\"right\" src=\"files/img/PhUniMa_Logo_sw.svg\">\n",
    "\n",
    "*Phillips-Universität Marburg* <br>\n",
    "*Fachbereich Physik*<br>\n",
    "*Priv.-Doz. Dr. S.R. Manmana, WiSe 2020/21*\n",
    "\n",
    "<h1><center>Übungen zur Vorlesung Computational Physics I<br><br>Blatt 9</center></h1>\n",
    "\n",
    "---"
   ]
  },
  {
   "cell_type": "markdown",
   "metadata": {},
   "source": [
    "# Lernziele dieses Übungsblattes\n",
    "\n",
    "\n",
    "* Lösung der zeitabhängigen Schrödingergleichung mithilfe des Crank-Nicolson-Verfahrens.\n",
    "* Simulation des quantenmechanischen Tunneleffekts.\n",
    "* Grundidee einer Molekulardynamiksimulation (MD).\n",
    "* Berechnung von Energie und Druck in einer MD-Simulation."
   ]
  },
  {
   "cell_type": "markdown",
   "metadata": {},
   "source": [
    "# Aufgabenmodus\n",
    "\n",
    "Die Aufgaben auf diesem Blatt decken zwei Themengebiete ab: \n",
    "\n",
    "i) Simulation des Tunneleffekts in der Quantenmechanik durch Lösen der zeitabhängigen Schrödingergleichung. Dazu wird der in der Vorlesung vorgestellte Crank-Nicolson Algorithmus eingesetzt.\n",
    "\n",
    "ii) ein Beispiel für eine Molekulardynamiksimulation. Sie sollten die Aufgaben mit Ihren bisherigen Kenntnissen bearbeiten können."
   ]
  },
  {
   "cell_type": "markdown",
   "metadata": {},
   "source": [
    "# Übungsaufgaben"
   ]
  },
  {
   "cell_type": "markdown",
   "metadata": {},
   "source": [
    "## Aufgabe 24: *Der quantenmechanische Tunneleffekt*\n",
    "\n",
    "In der Quantenmechanik untersucht man oft die Ausbreitung eines Teilchens an einer Barriere.\n",
    "\n",
    "Hier wollen wir eine mit Gauß’scher Form untersuchen, die Höhe V haben soll und in der Mitte eines Gebietes $x \\in [x1, x2]$ an der Stelle $(x_1 + x_2)/2$ positioniert ist; die Breite sei $\\sigma = (x_2 - x_1)/2$ (siehe Abbildung).\n",
    "\n",
    "<img src=\"files/img/Aufgabe24.png\" style=\"width: 25vw;\">\n",
    "\n",
    "Wir modellieren ein Teilchen mit kinetischer Energie *E* durch ein Wellenpaket, das sich nach rechts bewegen soll, und wir untersuchen das Verhalten, wenn es auf die Barriere trifft. Klassisch wissen wir, dass das Teilchen vollständig reflektiert wird, wenn seine Energie geringer ist als die Höhe der Barriere. In dieser Übung werden wir die zeitabhängige Schrödingergleichung für ein Teilchen in einem externen Potential mithife des Crank-Nicolson-Algorithmus lösen."
   ]
  },
  {
   "cell_type": "markdown",
   "metadata": {},
   "source": [
    "1. Implementieren Sie das Crank-Nicolson-Verfahren, bei dem die Zeitentwicklung der Wellenfunktion via $$\\left( 1 + \\frac{i}{\\hbar}\\frac{\\Delta t}{2} \\hat{H}\\right) \\psi(x,t + \\Delta t) = \\left( 1 - \\frac{i}{\\hbar}\\frac{\\Delta t}{2} \\hat{H}\\right) \\psi(x,t) + \\mathcal{O}(\\Delta t^2)$$\n",
    "    bestimmt wird. Der Hamiltonoperator ist dabei $\\hat{H} = -\\frac{\\hbar^2}{2m}\\nabla^2 + V(x)$, wobei das Potential $V(x)$ das Potential der Barriere enthält. Nutzen Sie Einheiten, in denen 􏰀 $\\hbar \\equiv 1$ und nehmen Sie an, die Masse des Teilchens sei $m = 1$.\n",
    "    \n",
    "    Gehen Sie hierzu wie in der Vorlesung besprochen vor: Diskretisieren Sie den Laplace-Operator mithilfe eines finite-Differenzen-Ansatzes und formulieren Sie das Problem als lineares Gleichungssystem. Konkret können Sie die Berechnung des nächsten Zeitschritts als $$A \\,\\psi_{-t+\\Delta t} = B \\,\\psi_{-t}$$\n",
    "    formulieren, wobei **A** und **B** Matrizen (oder Vektoren) sind, die sich aus der Diskretisierung des Laplace-Operators ergeben und $\\psi_{-t}$ die Wellenfunktion zum Zeitpunkt *t* ist."
   ]
  },
  {
   "cell_type": "markdown",
   "metadata": {},
   "source": [
    "2. Nehmen Sie als Anfangszustand ein Gauß’sches Wellenpaket $$\\psi(x,t=0) = \\mathcal{N} \\underbrace{e^{-(x-x_m)^2/(2\\sigma^2_0) + ikx}}_{\\psi_0(x)} $$\n",
    "    \n",
    "    dessen kinetische Energie durch $E = 􏰀\\hbar^2k^2/(2m)$ gegeben ist. $x_m$ ist dabei die Mitte des Wellenpakets und soll von Ihnen geeignet gewählt werden, $\\sigma_0$ ist dessen Breite. \n",
    "    \n",
    "    Achten Sie darauf, dass das Wellenpaket zu Beginn der Simulation so weit von der Barriere entfernt ist, dass die Gesamtenergie des Teilchens in guter Näherung der kinetischen Energie entspricht. $x_l$ und $x_r$ sind der linke bzw. rechte Rand des Integrationsgebietes. Sie können z.B. $x_l = -64, x_r = 192, x_m = 0$ und $\\sigma_0 = (x_r - x_l)/20$ wählen, und die *x*-Koordinate mit $N_x = 512$ Punkten diskretisieren. Da das System eine endliche Ausdehnung hat, sind nur diskrete Impulswerte $k = \\frac{2\\pi n_k}{N_x}$ möglich, mit $-N_x/2 \\leq n_k < N_x/2$. Wählen Sie zunächst $n_k = 32$, variieren Sie diesen Wert aber, um den Wert von *E* zu ändern. Denken Sie daran, dass Sie das Wellenpaket noch normieren müssen, d.h., $\\mathcal{N} = 1/\\sqrt{\\psi_0(x)^2}$ bestimmen müssen (dabei ist $\\psi_0$ die noch nicht normierte Wellenfunktion)."
   ]
  },
  {
   "cell_type": "markdown",
   "metadata": {},
   "source": [
    "3. Führen Sie Die Simulationen für mehrere Werte $V \\in [0.5,1.5]$ durch. Geben Sie zu jedem Zeitpunkt die Wahrscheinlichkeit aus, das Teilchen links von der Barriere, rechts von der Barriere, oder innerhalb der Barriere zu finden. Vergleichen Sie für die verschiedenen Werte von *V* mit dem erwarteten klassischen Verhalten. Visualisieren Sie den Tunneleffekt, indem Sie die Wahrscheinlichkeitsdichte $|\\psi(x,t)|^2$ plotten oder animieren."
   ]
  },
  {
   "cell_type": "markdown",
   "metadata": {},
   "source": [
    "4. Modifizieren Sie das Potential (z.B. $V < 0$, oder ein Potential anderer Form Ihrer Wahl) und beschreiben Sie nun das Verhalten."
   ]
  },
  {
   "cell_type": "markdown",
   "metadata": {},
   "source": [
    "### Aufgabenlösung 24"
   ]
  },
  {
   "cell_type": "code",
   "execution_count": null,
   "metadata": {},
   "outputs": [],
   "source": []
  },
  {
   "cell_type": "code",
   "execution_count": null,
   "metadata": {},
   "outputs": [],
   "source": []
  },
  {
   "cell_type": "code",
   "execution_count": null,
   "metadata": {},
   "outputs": [],
   "source": []
  },
  {
   "cell_type": "markdown",
   "metadata": {},
   "source": [
    "## Aufgabe 22: *Molekulardynamik in 2D*\n",
    "\n",
    "Implementieren Sie eine Molekulardynamiksimulation in 2 Raumdimensionen. Betrachten Sie dazu ein System mit $N = 100$ Teilchen. Nehmen Sie periodische Randbedingungen für die *y*-Richtung und reflektierende Randbedingungen in *x*-Richtung. Die reflektierenden Randbedingungen sollen dabei durch eine repulsive Lennard-Jones-Barriere\n",
    "\n",
    "$$V(r) = 4\\epsilon \\left( \\left(\\frac{r_0}{r}\\right)^{12} - \\left(\\frac{r_0}{r}\\right)^6 \\right), \\quad r_0 = \\sigma \\tag{1}$$\n",
    "\n",
    "modelliert werden, wobei $\\epsilon$ die Wechselwirkungsstärke und $\\sigma$ die typische Längenskala des Potentials ist (s. Skript). Die Box habe die Ausdehnung $L_x = 10\\sigma$ und $L_y = 6\\sigma$, die Masse der Teilchen sei $m = 1$. Nutzen Sie den Velocity-Verlet-Algorithmus zur Integration der Bewegungsgleichungen. Untersuchen Sie"
   ]
  },
  {
   "cell_type": "markdown",
   "metadata": {},
   "source": [
    "1. Ein ideales Gas, bei dem die Teilchen nicht miteinander wechselwirken."
   ]
  },
  {
   "cell_type": "markdown",
   "metadata": {},
   "source": [
    "2. Ein repulsives Lennard-Jones-Fluid, bei dem die Wechselwirkung zwischen den Teilchen durch Gl. (1) mit $\\epsilon = 1k_BT$ gegeben ist. Nutzen Sie Einheiten, bei denen $k_BT = 1$ und $\\sigma = 1$."
   ]
  },
  {
   "cell_type": "markdown",
   "metadata": {},
   "source": [
    "Setzen Sie die Anfangsbedingungen, indem Sie\n",
    "\n",
    "* die Teilchen auf einem Gitter positionieren mit $dx = 1, dy = 0.6$\n",
    "* die Geschwindigkeit der Teilchen Werte zwischen -1 und 1 in reduzierten Einheiten $\\sqrt{\\epsilon /m}$ annimmt. Dazu können Sie das Intervall der möglichen Geschwindigkeiten in *N* gleichmässigen Schritten diskretisieren. Sie können dann auf eine beliebige Weise durch die Teilchen iterieren und ihnen jeweils eine Geschwindigkeit zuordnen. Denken Sie daran, den Teilchen jeweils eine Geschwindigkeitskomponente in *x*- und *y*-Richtung zu geben.\n",
    "\n",
    "*Hinweis*: Sowohl für die Positionierung der Teilchen, als auch für die Zuordnung der Geschwindigkeiten kann man auch zufällig verteilte Werte nehmen, wie sie mit einem Zufallszahlengenerator erhalten werden können.\n",
    "\n",
    "1. Nutzen Sie Ihren Code, um für die beiden oben angegebenen Gase die kinetische und die potentielle Energie zu berechnen. Wie ändert sich beide Werte mit der Zeit? Wie verhält sich die Gesamtenergie mit der Zeit?\n",
    "\n",
    "2. Berechnen Sie den Druck, den die Teilchen in *x*-Richtung auf die reflektierenden Wände ausüben. Der Druck des Gases ist dabei die gesamte Kraft aller Gasmoleküle, die pro Flächeneinheit (in 2D: Längeneinheit) während eines einzelnen Zeitschritts $dt$ ausgeübt wird. Bestimmen Sie den Druck für Systeme mit verschiedenem Volumen, indem Sie die Rechnung für $L_y = 6, 7, 8, 9, 10$ wiederholen."
   ]
  },
  {
   "cell_type": "markdown",
   "metadata": {},
   "source": [
    "### Aufgabenlösung 25"
   ]
  },
  {
   "cell_type": "code",
   "execution_count": null,
   "metadata": {},
   "outputs": [],
   "source": []
  },
  {
   "cell_type": "code",
   "execution_count": null,
   "metadata": {},
   "outputs": [],
   "source": []
  },
  {
   "cell_type": "code",
   "execution_count": null,
   "metadata": {},
   "outputs": [],
   "source": []
  },
  {
   "cell_type": "markdown",
   "metadata": {},
   "source": [
    "# Selbsttest\n",
    "\n",
    "* Was ist die Grundidee des Crank-Nicolson-Verfahrens? Erhält es die Unitarität?\n",
    "\n",
    "* Wieso ist es sinnvoll, in MD-Simulationen den Velocity-Verlet-Algorithmus zunehmen?\n",
    "\n",
    "* Wie implementiert man periodische Randbedingungen?\n",
    "\n",
    "* Wie viele Teilchen schätzen Sie können Sie mit einer MD-Simulation auf dem Ihnen zur Verfügung stehenden Rechner simulieren?"
   ]
  },
  {
   "cell_type": "code",
   "execution_count": null,
   "metadata": {},
   "outputs": [],
   "source": []
  }
 ],
 "metadata": {
  "kernelspec": {
   "display_name": "Python 3",
   "language": "python",
   "name": "python3"
  },
  "language_info": {
   "codemirror_mode": {
    "name": "ipython",
    "version": 3
   },
   "file_extension": ".py",
   "mimetype": "text/x-python",
   "name": "python",
   "nbconvert_exporter": "python",
   "pygments_lexer": "ipython3",
   "version": "3.7.4"
  }
 },
 "nbformat": 4,
 "nbformat_minor": 2
}
